{
 "cells": [
  {
   "cell_type": "markdown",
   "id": "fa3e3169-9513-4980-ae7c-344069144af4",
   "metadata": {},
   "source": [
    "# CUSTOMER SEGMENTATION"
   ]
  },
  {
   "cell_type": "markdown",
   "id": "81491be8-64c5-4c59-b84f-71d69d8e896d",
   "metadata": {},
   "source": [
    "## BASIC DATA CLEANING"
   ]
  },
  {
   "cell_type": "code",
   "execution_count": 1,
   "id": "6abb2a38-b60c-4710-91f6-1906e3d72ad4",
   "metadata": {},
   "outputs": [],
   "source": [
    "# mporting necessary libraries\n",
    "import pandas as pd\n",
    "import numpy as np\n",
    "import matplotlib.pyplot as plt\n",
    "import seaborn as sns\n",
    "from sklearn.cluster import KMeans\n",
    "from sklearn.metrics import silhouette_score, davies_bouldin_score, calinski_harabasz_score\n",
    "from sklearn.metrics import mutual_info_score, adjusted_rand_score"
   ]
  },
  {
   "cell_type": "code",
   "execution_count": 2,
   "id": "97744347-5a87-4dfc-a0bb-f466bee3c84f",
   "metadata": {},
   "outputs": [],
   "source": [
    "# importing dataset\n",
    "c_df=pd.read_csv(\"customers.csv\")\n",
    "t_df=pd.read_csv(\"transactions.csv\")"
   ]
  },
  {
   "cell_type": "code",
   "execution_count": 3,
   "id": "3c65db34-1cf2-4e65-bcb5-d01d34b96f5d",
   "metadata": {},
   "outputs": [
    {
     "data": {
      "text/html": [
       "<div>\n",
       "<style scoped>\n",
       "    .dataframe tbody tr th:only-of-type {\n",
       "        vertical-align: middle;\n",
       "    }\n",
       "\n",
       "    .dataframe tbody tr th {\n",
       "        vertical-align: top;\n",
       "    }\n",
       "\n",
       "    .dataframe thead th {\n",
       "        text-align: right;\n",
       "    }\n",
       "</style>\n",
       "<table border=\"1\" class=\"dataframe\">\n",
       "  <thead>\n",
       "    <tr style=\"text-align: right;\">\n",
       "      <th></th>\n",
       "      <th>CustomerID</th>\n",
       "      <th>CustomerName</th>\n",
       "      <th>Region</th>\n",
       "      <th>SignupDate</th>\n",
       "    </tr>\n",
       "  </thead>\n",
       "  <tbody>\n",
       "    <tr>\n",
       "      <th>0</th>\n",
       "      <td>C0001</td>\n",
       "      <td>Lawrence Carroll</td>\n",
       "      <td>South America</td>\n",
       "      <td>2022-07-10</td>\n",
       "    </tr>\n",
       "    <tr>\n",
       "      <th>1</th>\n",
       "      <td>C0002</td>\n",
       "      <td>Elizabeth Lutz</td>\n",
       "      <td>Asia</td>\n",
       "      <td>2022-02-13</td>\n",
       "    </tr>\n",
       "    <tr>\n",
       "      <th>2</th>\n",
       "      <td>C0003</td>\n",
       "      <td>Michael Rivera</td>\n",
       "      <td>South America</td>\n",
       "      <td>2024-03-07</td>\n",
       "    </tr>\n",
       "    <tr>\n",
       "      <th>3</th>\n",
       "      <td>C0004</td>\n",
       "      <td>Kathleen Rodriguez</td>\n",
       "      <td>South America</td>\n",
       "      <td>2022-10-09</td>\n",
       "    </tr>\n",
       "    <tr>\n",
       "      <th>4</th>\n",
       "      <td>C0005</td>\n",
       "      <td>Laura Weber</td>\n",
       "      <td>Asia</td>\n",
       "      <td>2022-08-15</td>\n",
       "    </tr>\n",
       "    <tr>\n",
       "      <th>...</th>\n",
       "      <td>...</td>\n",
       "      <td>...</td>\n",
       "      <td>...</td>\n",
       "      <td>...</td>\n",
       "    </tr>\n",
       "    <tr>\n",
       "      <th>195</th>\n",
       "      <td>C0196</td>\n",
       "      <td>Laura Watts</td>\n",
       "      <td>Europe</td>\n",
       "      <td>2022-06-07</td>\n",
       "    </tr>\n",
       "    <tr>\n",
       "      <th>196</th>\n",
       "      <td>C0197</td>\n",
       "      <td>Christina Harvey</td>\n",
       "      <td>Europe</td>\n",
       "      <td>2023-03-21</td>\n",
       "    </tr>\n",
       "    <tr>\n",
       "      <th>197</th>\n",
       "      <td>C0198</td>\n",
       "      <td>Rebecca Ray</td>\n",
       "      <td>Europe</td>\n",
       "      <td>2022-02-27</td>\n",
       "    </tr>\n",
       "    <tr>\n",
       "      <th>198</th>\n",
       "      <td>C0199</td>\n",
       "      <td>Andrea Jenkins</td>\n",
       "      <td>Europe</td>\n",
       "      <td>2022-12-03</td>\n",
       "    </tr>\n",
       "    <tr>\n",
       "      <th>199</th>\n",
       "      <td>C0200</td>\n",
       "      <td>Kelly Cross</td>\n",
       "      <td>Asia</td>\n",
       "      <td>2023-06-11</td>\n",
       "    </tr>\n",
       "  </tbody>\n",
       "</table>\n",
       "<p>200 rows × 4 columns</p>\n",
       "</div>"
      ],
      "text/plain": [
       "    CustomerID        CustomerName         Region  SignupDate\n",
       "0        C0001    Lawrence Carroll  South America  2022-07-10\n",
       "1        C0002      Elizabeth Lutz           Asia  2022-02-13\n",
       "2        C0003      Michael Rivera  South America  2024-03-07\n",
       "3        C0004  Kathleen Rodriguez  South America  2022-10-09\n",
       "4        C0005         Laura Weber           Asia  2022-08-15\n",
       "..         ...                 ...            ...         ...\n",
       "195      C0196         Laura Watts         Europe  2022-06-07\n",
       "196      C0197    Christina Harvey         Europe  2023-03-21\n",
       "197      C0198         Rebecca Ray         Europe  2022-02-27\n",
       "198      C0199      Andrea Jenkins         Europe  2022-12-03\n",
       "199      C0200         Kelly Cross           Asia  2023-06-11\n",
       "\n",
       "[200 rows x 4 columns]"
      ]
     },
     "execution_count": 3,
     "metadata": {},
     "output_type": "execute_result"
    }
   ],
   "source": [
    "c_df"
   ]
  },
  {
   "cell_type": "code",
   "execution_count": 4,
   "id": "1e3ea8a7-154d-42dc-a717-7cee66610dea",
   "metadata": {},
   "outputs": [
    {
     "data": {
      "text/html": [
       "<div>\n",
       "<style scoped>\n",
       "    .dataframe tbody tr th:only-of-type {\n",
       "        vertical-align: middle;\n",
       "    }\n",
       "\n",
       "    .dataframe tbody tr th {\n",
       "        vertical-align: top;\n",
       "    }\n",
       "\n",
       "    .dataframe thead th {\n",
       "        text-align: right;\n",
       "    }\n",
       "</style>\n",
       "<table border=\"1\" class=\"dataframe\">\n",
       "  <thead>\n",
       "    <tr style=\"text-align: right;\">\n",
       "      <th></th>\n",
       "      <th>TransactionID</th>\n",
       "      <th>CustomerID</th>\n",
       "      <th>ProductID</th>\n",
       "      <th>TransactionDate</th>\n",
       "      <th>Quantity</th>\n",
       "      <th>TotalValue</th>\n",
       "      <th>Price</th>\n",
       "    </tr>\n",
       "  </thead>\n",
       "  <tbody>\n",
       "    <tr>\n",
       "      <th>0</th>\n",
       "      <td>T00001</td>\n",
       "      <td>C0199</td>\n",
       "      <td>P067</td>\n",
       "      <td>2024-08-25 12:38:23</td>\n",
       "      <td>1</td>\n",
       "      <td>300.68</td>\n",
       "      <td>300.68</td>\n",
       "    </tr>\n",
       "    <tr>\n",
       "      <th>1</th>\n",
       "      <td>T00112</td>\n",
       "      <td>C0146</td>\n",
       "      <td>P067</td>\n",
       "      <td>2024-05-27 22:23:54</td>\n",
       "      <td>1</td>\n",
       "      <td>300.68</td>\n",
       "      <td>300.68</td>\n",
       "    </tr>\n",
       "    <tr>\n",
       "      <th>2</th>\n",
       "      <td>T00166</td>\n",
       "      <td>C0127</td>\n",
       "      <td>P067</td>\n",
       "      <td>2024-04-25 07:38:55</td>\n",
       "      <td>1</td>\n",
       "      <td>300.68</td>\n",
       "      <td>300.68</td>\n",
       "    </tr>\n",
       "    <tr>\n",
       "      <th>3</th>\n",
       "      <td>T00272</td>\n",
       "      <td>C0087</td>\n",
       "      <td>P067</td>\n",
       "      <td>2024-03-26 22:55:37</td>\n",
       "      <td>2</td>\n",
       "      <td>601.36</td>\n",
       "      <td>300.68</td>\n",
       "    </tr>\n",
       "    <tr>\n",
       "      <th>4</th>\n",
       "      <td>T00363</td>\n",
       "      <td>C0070</td>\n",
       "      <td>P067</td>\n",
       "      <td>2024-03-21 15:10:10</td>\n",
       "      <td>3</td>\n",
       "      <td>902.04</td>\n",
       "      <td>300.68</td>\n",
       "    </tr>\n",
       "    <tr>\n",
       "      <th>...</th>\n",
       "      <td>...</td>\n",
       "      <td>...</td>\n",
       "      <td>...</td>\n",
       "      <td>...</td>\n",
       "      <td>...</td>\n",
       "      <td>...</td>\n",
       "      <td>...</td>\n",
       "    </tr>\n",
       "    <tr>\n",
       "      <th>995</th>\n",
       "      <td>T00496</td>\n",
       "      <td>C0118</td>\n",
       "      <td>P037</td>\n",
       "      <td>2024-10-24 08:30:27</td>\n",
       "      <td>1</td>\n",
       "      <td>459.86</td>\n",
       "      <td>459.86</td>\n",
       "    </tr>\n",
       "    <tr>\n",
       "      <th>996</th>\n",
       "      <td>T00759</td>\n",
       "      <td>C0059</td>\n",
       "      <td>P037</td>\n",
       "      <td>2024-06-04 02:15:24</td>\n",
       "      <td>3</td>\n",
       "      <td>1379.58</td>\n",
       "      <td>459.86</td>\n",
       "    </tr>\n",
       "    <tr>\n",
       "      <th>997</th>\n",
       "      <td>T00922</td>\n",
       "      <td>C0018</td>\n",
       "      <td>P037</td>\n",
       "      <td>2024-04-05 13:05:32</td>\n",
       "      <td>4</td>\n",
       "      <td>1839.44</td>\n",
       "      <td>459.86</td>\n",
       "    </tr>\n",
       "    <tr>\n",
       "      <th>998</th>\n",
       "      <td>T00959</td>\n",
       "      <td>C0115</td>\n",
       "      <td>P037</td>\n",
       "      <td>2024-09-29 10:16:02</td>\n",
       "      <td>2</td>\n",
       "      <td>919.72</td>\n",
       "      <td>459.86</td>\n",
       "    </tr>\n",
       "    <tr>\n",
       "      <th>999</th>\n",
       "      <td>T00992</td>\n",
       "      <td>C0024</td>\n",
       "      <td>P037</td>\n",
       "      <td>2024-04-21 10:52:24</td>\n",
       "      <td>1</td>\n",
       "      <td>459.86</td>\n",
       "      <td>459.86</td>\n",
       "    </tr>\n",
       "  </tbody>\n",
       "</table>\n",
       "<p>1000 rows × 7 columns</p>\n",
       "</div>"
      ],
      "text/plain": [
       "    TransactionID CustomerID ProductID      TransactionDate  Quantity  \\\n",
       "0          T00001      C0199      P067  2024-08-25 12:38:23         1   \n",
       "1          T00112      C0146      P067  2024-05-27 22:23:54         1   \n",
       "2          T00166      C0127      P067  2024-04-25 07:38:55         1   \n",
       "3          T00272      C0087      P067  2024-03-26 22:55:37         2   \n",
       "4          T00363      C0070      P067  2024-03-21 15:10:10         3   \n",
       "..            ...        ...       ...                  ...       ...   \n",
       "995        T00496      C0118      P037  2024-10-24 08:30:27         1   \n",
       "996        T00759      C0059      P037  2024-06-04 02:15:24         3   \n",
       "997        T00922      C0018      P037  2024-04-05 13:05:32         4   \n",
       "998        T00959      C0115      P037  2024-09-29 10:16:02         2   \n",
       "999        T00992      C0024      P037  2024-04-21 10:52:24         1   \n",
       "\n",
       "     TotalValue   Price  \n",
       "0        300.68  300.68  \n",
       "1        300.68  300.68  \n",
       "2        300.68  300.68  \n",
       "3        601.36  300.68  \n",
       "4        902.04  300.68  \n",
       "..          ...     ...  \n",
       "995      459.86  459.86  \n",
       "996     1379.58  459.86  \n",
       "997     1839.44  459.86  \n",
       "998      919.72  459.86  \n",
       "999      459.86  459.86  \n",
       "\n",
       "[1000 rows x 7 columns]"
      ]
     },
     "execution_count": 4,
     "metadata": {},
     "output_type": "execute_result"
    }
   ],
   "source": [
    "t_df"
   ]
  },
  {
   "cell_type": "code",
   "execution_count": 5,
   "id": "e60aa3f3-c955-4c28-883d-f23898a167e1",
   "metadata": {},
   "outputs": [],
   "source": [
    "# merging dtaset\n",
    "df1 = t_df.merge(c_df[['CustomerID','Region','SignupDate']], on ='CustomerID')"
   ]
  },
  {
   "cell_type": "code",
   "execution_count": 6,
   "id": "eb2b84b7-e5db-4c27-aa3c-a45c53830aa5",
   "metadata": {},
   "outputs": [],
   "source": [
    "# changing datatype\n",
    "df1[\"TransactionDate\"]=pd.to_datetime(df1[\"TransactionDate\"])"
   ]
  },
  {
   "cell_type": "code",
   "execution_count": 7,
   "id": "e7366ae8-03b8-4707-8116-ac51397e2874",
   "metadata": {},
   "outputs": [],
   "source": [
    "#converting to date\n",
    "df1[\"TransactionDate\"]=df1[\"TransactionDate\"].dt.date"
   ]
  },
  {
   "cell_type": "code",
   "execution_count": 8,
   "id": "10915905-8453-47a3-ab09-374082119c66",
   "metadata": {},
   "outputs": [],
   "source": [
    "#removing columns\n",
    "df1=df1.drop([\"Price\",\"Quantity\",\"TransactionID\",\"CustomerID\",\"ProductID\"],axis=1)"
   ]
  },
  {
   "cell_type": "code",
   "execution_count": 9,
   "id": "9548efcd-4b7f-425d-8090-e6463f4e7c21",
   "metadata": {},
   "outputs": [
    {
     "data": {
      "text/plain": [
       "0"
      ]
     },
     "execution_count": 9,
     "metadata": {},
     "output_type": "execute_result"
    }
   ],
   "source": [
    "#duplicate removing\n",
    "df1.duplicated().sum()"
   ]
  },
  {
   "cell_type": "code",
   "execution_count": 10,
   "id": "6ee86387-8760-4db1-848e-4c3cf52897ba",
   "metadata": {},
   "outputs": [
    {
     "data": {
      "text/plain": [
       "TransactionDate    0\n",
       "TotalValue         0\n",
       "Region             0\n",
       "SignupDate         0\n",
       "dtype: int64"
      ]
     },
     "execution_count": 10,
     "metadata": {},
     "output_type": "execute_result"
    }
   ],
   "source": [
    "# null finding\n",
    "df1.isnull().sum()"
   ]
  },
  {
   "cell_type": "code",
   "execution_count": 11,
   "id": "286237b4-f551-48bf-a227-e2aafe9fe996",
   "metadata": {},
   "outputs": [],
   "source": [
    "df1[\"TransactionDate\"]=pd.to_datetime(df1[\"TransactionDate\"])\n",
    "df1[\"SignupDate\"]=pd.to_datetime(df1[\"SignupDate\"])"
   ]
  },
  {
   "cell_type": "code",
   "execution_count": 12,
   "id": "bfc27d39-6757-4743-994f-166b064f6358",
   "metadata": {},
   "outputs": [
    {
     "data": {
      "text/plain": [
       "TransactionDate    datetime64[ns]\n",
       "TotalValue                float64\n",
       "Region                     object\n",
       "SignupDate         datetime64[ns]\n",
       "dtype: object"
      ]
     },
     "execution_count": 12,
     "metadata": {},
     "output_type": "execute_result"
    }
   ],
   "source": [
    "df1.dtypes"
   ]
  },
  {
   "cell_type": "code",
   "execution_count": 13,
   "id": "3d21b1ef-0351-4fb2-81e2-45d32278d1dd",
   "metadata": {},
   "outputs": [
    {
     "data": {
      "text/html": [
       "<div>\n",
       "<style scoped>\n",
       "    .dataframe tbody tr th:only-of-type {\n",
       "        vertical-align: middle;\n",
       "    }\n",
       "\n",
       "    .dataframe tbody tr th {\n",
       "        vertical-align: top;\n",
       "    }\n",
       "\n",
       "    .dataframe thead th {\n",
       "        text-align: right;\n",
       "    }\n",
       "</style>\n",
       "<table border=\"1\" class=\"dataframe\">\n",
       "  <thead>\n",
       "    <tr style=\"text-align: right;\">\n",
       "      <th></th>\n",
       "      <th>CustomerID</th>\n",
       "      <th>CustomerName</th>\n",
       "      <th>Region</th>\n",
       "      <th>SignupDate</th>\n",
       "    </tr>\n",
       "  </thead>\n",
       "  <tbody>\n",
       "    <tr>\n",
       "      <th>0</th>\n",
       "      <td>C0001</td>\n",
       "      <td>Lawrence Carroll</td>\n",
       "      <td>South America</td>\n",
       "      <td>2022-07-10</td>\n",
       "    </tr>\n",
       "    <tr>\n",
       "      <th>1</th>\n",
       "      <td>C0002</td>\n",
       "      <td>Elizabeth Lutz</td>\n",
       "      <td>Asia</td>\n",
       "      <td>2022-02-13</td>\n",
       "    </tr>\n",
       "    <tr>\n",
       "      <th>2</th>\n",
       "      <td>C0003</td>\n",
       "      <td>Michael Rivera</td>\n",
       "      <td>South America</td>\n",
       "      <td>2024-03-07</td>\n",
       "    </tr>\n",
       "    <tr>\n",
       "      <th>3</th>\n",
       "      <td>C0004</td>\n",
       "      <td>Kathleen Rodriguez</td>\n",
       "      <td>South America</td>\n",
       "      <td>2022-10-09</td>\n",
       "    </tr>\n",
       "    <tr>\n",
       "      <th>4</th>\n",
       "      <td>C0005</td>\n",
       "      <td>Laura Weber</td>\n",
       "      <td>Asia</td>\n",
       "      <td>2022-08-15</td>\n",
       "    </tr>\n",
       "    <tr>\n",
       "      <th>...</th>\n",
       "      <td>...</td>\n",
       "      <td>...</td>\n",
       "      <td>...</td>\n",
       "      <td>...</td>\n",
       "    </tr>\n",
       "    <tr>\n",
       "      <th>195</th>\n",
       "      <td>C0196</td>\n",
       "      <td>Laura Watts</td>\n",
       "      <td>Europe</td>\n",
       "      <td>2022-06-07</td>\n",
       "    </tr>\n",
       "    <tr>\n",
       "      <th>196</th>\n",
       "      <td>C0197</td>\n",
       "      <td>Christina Harvey</td>\n",
       "      <td>Europe</td>\n",
       "      <td>2023-03-21</td>\n",
       "    </tr>\n",
       "    <tr>\n",
       "      <th>197</th>\n",
       "      <td>C0198</td>\n",
       "      <td>Rebecca Ray</td>\n",
       "      <td>Europe</td>\n",
       "      <td>2022-02-27</td>\n",
       "    </tr>\n",
       "    <tr>\n",
       "      <th>198</th>\n",
       "      <td>C0199</td>\n",
       "      <td>Andrea Jenkins</td>\n",
       "      <td>Europe</td>\n",
       "      <td>2022-12-03</td>\n",
       "    </tr>\n",
       "    <tr>\n",
       "      <th>199</th>\n",
       "      <td>C0200</td>\n",
       "      <td>Kelly Cross</td>\n",
       "      <td>Asia</td>\n",
       "      <td>2023-06-11</td>\n",
       "    </tr>\n",
       "  </tbody>\n",
       "</table>\n",
       "<p>200 rows × 4 columns</p>\n",
       "</div>"
      ],
      "text/plain": [
       "    CustomerID        CustomerName         Region  SignupDate\n",
       "0        C0001    Lawrence Carroll  South America  2022-07-10\n",
       "1        C0002      Elizabeth Lutz           Asia  2022-02-13\n",
       "2        C0003      Michael Rivera  South America  2024-03-07\n",
       "3        C0004  Kathleen Rodriguez  South America  2022-10-09\n",
       "4        C0005         Laura Weber           Asia  2022-08-15\n",
       "..         ...                 ...            ...         ...\n",
       "195      C0196         Laura Watts         Europe  2022-06-07\n",
       "196      C0197    Christina Harvey         Europe  2023-03-21\n",
       "197      C0198         Rebecca Ray         Europe  2022-02-27\n",
       "198      C0199      Andrea Jenkins         Europe  2022-12-03\n",
       "199      C0200         Kelly Cross           Asia  2023-06-11\n",
       "\n",
       "[200 rows x 4 columns]"
      ]
     },
     "execution_count": 13,
     "metadata": {},
     "output_type": "execute_result"
    }
   ],
   "source": [
    "c_df"
   ]
  },
  {
   "cell_type": "code",
   "execution_count": 14,
   "id": "7a474bc8-893c-464e-84f4-cb7dbecd1089",
   "metadata": {},
   "outputs": [
    {
     "data": {
      "text/html": [
       "<div>\n",
       "<style scoped>\n",
       "    .dataframe tbody tr th:only-of-type {\n",
       "        vertical-align: middle;\n",
       "    }\n",
       "\n",
       "    .dataframe tbody tr th {\n",
       "        vertical-align: top;\n",
       "    }\n",
       "\n",
       "    .dataframe thead th {\n",
       "        text-align: right;\n",
       "    }\n",
       "</style>\n",
       "<table border=\"1\" class=\"dataframe\">\n",
       "  <thead>\n",
       "    <tr style=\"text-align: right;\">\n",
       "      <th></th>\n",
       "      <th>TransactionID</th>\n",
       "      <th>CustomerID</th>\n",
       "      <th>ProductID</th>\n",
       "      <th>TransactionDate</th>\n",
       "      <th>Quantity</th>\n",
       "      <th>TotalValue</th>\n",
       "      <th>Price</th>\n",
       "    </tr>\n",
       "  </thead>\n",
       "  <tbody>\n",
       "    <tr>\n",
       "      <th>0</th>\n",
       "      <td>T00001</td>\n",
       "      <td>C0199</td>\n",
       "      <td>P067</td>\n",
       "      <td>2024-08-25 12:38:23</td>\n",
       "      <td>1</td>\n",
       "      <td>300.68</td>\n",
       "      <td>300.68</td>\n",
       "    </tr>\n",
       "    <tr>\n",
       "      <th>1</th>\n",
       "      <td>T00112</td>\n",
       "      <td>C0146</td>\n",
       "      <td>P067</td>\n",
       "      <td>2024-05-27 22:23:54</td>\n",
       "      <td>1</td>\n",
       "      <td>300.68</td>\n",
       "      <td>300.68</td>\n",
       "    </tr>\n",
       "    <tr>\n",
       "      <th>2</th>\n",
       "      <td>T00166</td>\n",
       "      <td>C0127</td>\n",
       "      <td>P067</td>\n",
       "      <td>2024-04-25 07:38:55</td>\n",
       "      <td>1</td>\n",
       "      <td>300.68</td>\n",
       "      <td>300.68</td>\n",
       "    </tr>\n",
       "    <tr>\n",
       "      <th>3</th>\n",
       "      <td>T00272</td>\n",
       "      <td>C0087</td>\n",
       "      <td>P067</td>\n",
       "      <td>2024-03-26 22:55:37</td>\n",
       "      <td>2</td>\n",
       "      <td>601.36</td>\n",
       "      <td>300.68</td>\n",
       "    </tr>\n",
       "    <tr>\n",
       "      <th>4</th>\n",
       "      <td>T00363</td>\n",
       "      <td>C0070</td>\n",
       "      <td>P067</td>\n",
       "      <td>2024-03-21 15:10:10</td>\n",
       "      <td>3</td>\n",
       "      <td>902.04</td>\n",
       "      <td>300.68</td>\n",
       "    </tr>\n",
       "    <tr>\n",
       "      <th>...</th>\n",
       "      <td>...</td>\n",
       "      <td>...</td>\n",
       "      <td>...</td>\n",
       "      <td>...</td>\n",
       "      <td>...</td>\n",
       "      <td>...</td>\n",
       "      <td>...</td>\n",
       "    </tr>\n",
       "    <tr>\n",
       "      <th>995</th>\n",
       "      <td>T00496</td>\n",
       "      <td>C0118</td>\n",
       "      <td>P037</td>\n",
       "      <td>2024-10-24 08:30:27</td>\n",
       "      <td>1</td>\n",
       "      <td>459.86</td>\n",
       "      <td>459.86</td>\n",
       "    </tr>\n",
       "    <tr>\n",
       "      <th>996</th>\n",
       "      <td>T00759</td>\n",
       "      <td>C0059</td>\n",
       "      <td>P037</td>\n",
       "      <td>2024-06-04 02:15:24</td>\n",
       "      <td>3</td>\n",
       "      <td>1379.58</td>\n",
       "      <td>459.86</td>\n",
       "    </tr>\n",
       "    <tr>\n",
       "      <th>997</th>\n",
       "      <td>T00922</td>\n",
       "      <td>C0018</td>\n",
       "      <td>P037</td>\n",
       "      <td>2024-04-05 13:05:32</td>\n",
       "      <td>4</td>\n",
       "      <td>1839.44</td>\n",
       "      <td>459.86</td>\n",
       "    </tr>\n",
       "    <tr>\n",
       "      <th>998</th>\n",
       "      <td>T00959</td>\n",
       "      <td>C0115</td>\n",
       "      <td>P037</td>\n",
       "      <td>2024-09-29 10:16:02</td>\n",
       "      <td>2</td>\n",
       "      <td>919.72</td>\n",
       "      <td>459.86</td>\n",
       "    </tr>\n",
       "    <tr>\n",
       "      <th>999</th>\n",
       "      <td>T00992</td>\n",
       "      <td>C0024</td>\n",
       "      <td>P037</td>\n",
       "      <td>2024-04-21 10:52:24</td>\n",
       "      <td>1</td>\n",
       "      <td>459.86</td>\n",
       "      <td>459.86</td>\n",
       "    </tr>\n",
       "  </tbody>\n",
       "</table>\n",
       "<p>1000 rows × 7 columns</p>\n",
       "</div>"
      ],
      "text/plain": [
       "    TransactionID CustomerID ProductID      TransactionDate  Quantity  \\\n",
       "0          T00001      C0199      P067  2024-08-25 12:38:23         1   \n",
       "1          T00112      C0146      P067  2024-05-27 22:23:54         1   \n",
       "2          T00166      C0127      P067  2024-04-25 07:38:55         1   \n",
       "3          T00272      C0087      P067  2024-03-26 22:55:37         2   \n",
       "4          T00363      C0070      P067  2024-03-21 15:10:10         3   \n",
       "..            ...        ...       ...                  ...       ...   \n",
       "995        T00496      C0118      P037  2024-10-24 08:30:27         1   \n",
       "996        T00759      C0059      P037  2024-06-04 02:15:24         3   \n",
       "997        T00922      C0018      P037  2024-04-05 13:05:32         4   \n",
       "998        T00959      C0115      P037  2024-09-29 10:16:02         2   \n",
       "999        T00992      C0024      P037  2024-04-21 10:52:24         1   \n",
       "\n",
       "     TotalValue   Price  \n",
       "0        300.68  300.68  \n",
       "1        300.68  300.68  \n",
       "2        300.68  300.68  \n",
       "3        601.36  300.68  \n",
       "4        902.04  300.68  \n",
       "..          ...     ...  \n",
       "995      459.86  459.86  \n",
       "996     1379.58  459.86  \n",
       "997     1839.44  459.86  \n",
       "998      919.72  459.86  \n",
       "999      459.86  459.86  \n",
       "\n",
       "[1000 rows x 7 columns]"
      ]
     },
     "execution_count": 14,
     "metadata": {},
     "output_type": "execute_result"
    }
   ],
   "source": [
    "t_df"
   ]
  },
  {
   "cell_type": "code",
   "execution_count": 15,
   "id": "10f05d5c-c287-42e9-b7d9-655d72099024",
   "metadata": {},
   "outputs": [],
   "source": [
    "# converting to days\n",
    "df1[\"how_long_customer\"]=(df1[\"TransactionDate\"]-df1[\"SignupDate\"]).dt.days"
   ]
  },
  {
   "cell_type": "code",
   "execution_count": 16,
   "id": "b63f9511-ce49-4152-9971-254f4afa70c3",
   "metadata": {},
   "outputs": [
    {
     "data": {
      "text/html": [
       "<div>\n",
       "<style scoped>\n",
       "    .dataframe tbody tr th:only-of-type {\n",
       "        vertical-align: middle;\n",
       "    }\n",
       "\n",
       "    .dataframe tbody tr th {\n",
       "        vertical-align: top;\n",
       "    }\n",
       "\n",
       "    .dataframe thead th {\n",
       "        text-align: right;\n",
       "    }\n",
       "</style>\n",
       "<table border=\"1\" class=\"dataframe\">\n",
       "  <thead>\n",
       "    <tr style=\"text-align: right;\">\n",
       "      <th></th>\n",
       "      <th>TransactionDate</th>\n",
       "      <th>TotalValue</th>\n",
       "      <th>Region</th>\n",
       "      <th>SignupDate</th>\n",
       "      <th>how_long_customer</th>\n",
       "    </tr>\n",
       "  </thead>\n",
       "  <tbody>\n",
       "    <tr>\n",
       "      <th>0</th>\n",
       "      <td>2024-08-25</td>\n",
       "      <td>300.68</td>\n",
       "      <td>Europe</td>\n",
       "      <td>2022-12-03</td>\n",
       "      <td>631</td>\n",
       "    </tr>\n",
       "    <tr>\n",
       "      <th>1</th>\n",
       "      <td>2024-10-01</td>\n",
       "      <td>550.16</td>\n",
       "      <td>Europe</td>\n",
       "      <td>2022-12-03</td>\n",
       "      <td>668</td>\n",
       "    </tr>\n",
       "    <tr>\n",
       "      <th>2</th>\n",
       "      <td>2024-08-17</td>\n",
       "      <td>834.74</td>\n",
       "      <td>Europe</td>\n",
       "      <td>2022-12-03</td>\n",
       "      <td>623</td>\n",
       "    </tr>\n",
       "    <tr>\n",
       "      <th>3</th>\n",
       "      <td>2024-10-26</td>\n",
       "      <td>293.70</td>\n",
       "      <td>Europe</td>\n",
       "      <td>2022-12-03</td>\n",
       "      <td>693</td>\n",
       "    </tr>\n",
       "    <tr>\n",
       "      <th>4</th>\n",
       "      <td>2024-05-27</td>\n",
       "      <td>300.68</td>\n",
       "      <td>Asia</td>\n",
       "      <td>2024-09-04</td>\n",
       "      <td>-100</td>\n",
       "    </tr>\n",
       "    <tr>\n",
       "      <th>...</th>\n",
       "      <td>...</td>\n",
       "      <td>...</td>\n",
       "      <td>...</td>\n",
       "      <td>...</td>\n",
       "      <td>...</td>\n",
       "    </tr>\n",
       "    <tr>\n",
       "      <th>995</th>\n",
       "      <td>2024-01-07</td>\n",
       "      <td>32.16</td>\n",
       "      <td>South America</td>\n",
       "      <td>2023-03-04</td>\n",
       "      <td>309</td>\n",
       "    </tr>\n",
       "    <tr>\n",
       "      <th>996</th>\n",
       "      <td>2024-09-30</td>\n",
       "      <td>1252.11</td>\n",
       "      <td>South America</td>\n",
       "      <td>2023-03-04</td>\n",
       "      <td>576</td>\n",
       "    </tr>\n",
       "    <tr>\n",
       "      <th>997</th>\n",
       "      <td>2024-12-24</td>\n",
       "      <td>223.96</td>\n",
       "      <td>South America</td>\n",
       "      <td>2024-11-22</td>\n",
       "      <td>32</td>\n",
       "    </tr>\n",
       "    <tr>\n",
       "      <th>998</th>\n",
       "      <td>2024-12-09</td>\n",
       "      <td>995.52</td>\n",
       "      <td>Asia</td>\n",
       "      <td>2024-11-13</td>\n",
       "      <td>26</td>\n",
       "    </tr>\n",
       "    <tr>\n",
       "      <th>999</th>\n",
       "      <td>2024-01-02</td>\n",
       "      <td>942.32</td>\n",
       "      <td>Asia</td>\n",
       "      <td>2024-09-21</td>\n",
       "      <td>-263</td>\n",
       "    </tr>\n",
       "  </tbody>\n",
       "</table>\n",
       "<p>1000 rows × 5 columns</p>\n",
       "</div>"
      ],
      "text/plain": [
       "    TransactionDate  TotalValue         Region SignupDate  how_long_customer\n",
       "0        2024-08-25      300.68         Europe 2022-12-03                631\n",
       "1        2024-10-01      550.16         Europe 2022-12-03                668\n",
       "2        2024-08-17      834.74         Europe 2022-12-03                623\n",
       "3        2024-10-26      293.70         Europe 2022-12-03                693\n",
       "4        2024-05-27      300.68           Asia 2024-09-04               -100\n",
       "..              ...         ...            ...        ...                ...\n",
       "995      2024-01-07       32.16  South America 2023-03-04                309\n",
       "996      2024-09-30     1252.11  South America 2023-03-04                576\n",
       "997      2024-12-24      223.96  South America 2024-11-22                 32\n",
       "998      2024-12-09      995.52           Asia 2024-11-13                 26\n",
       "999      2024-01-02      942.32           Asia 2024-09-21               -263\n",
       "\n",
       "[1000 rows x 5 columns]"
      ]
     },
     "execution_count": 16,
     "metadata": {},
     "output_type": "execute_result"
    }
   ],
   "source": [
    "df1"
   ]
  },
  {
   "cell_type": "code",
   "execution_count": 17,
   "id": "05e6b584-3155-41d5-ba31-e35948554fde",
   "metadata": {},
   "outputs": [
    {
     "data": {
      "text/html": [
       "<div>\n",
       "<style scoped>\n",
       "    .dataframe tbody tr th:only-of-type {\n",
       "        vertical-align: middle;\n",
       "    }\n",
       "\n",
       "    .dataframe tbody tr th {\n",
       "        vertical-align: top;\n",
       "    }\n",
       "\n",
       "    .dataframe thead th {\n",
       "        text-align: right;\n",
       "    }\n",
       "</style>\n",
       "<table border=\"1\" class=\"dataframe\">\n",
       "  <thead>\n",
       "    <tr style=\"text-align: right;\">\n",
       "      <th></th>\n",
       "      <th>TransactionDate</th>\n",
       "      <th>TotalValue</th>\n",
       "      <th>Region</th>\n",
       "      <th>SignupDate</th>\n",
       "      <th>how_long_customer</th>\n",
       "    </tr>\n",
       "  </thead>\n",
       "  <tbody>\n",
       "    <tr>\n",
       "      <th>4</th>\n",
       "      <td>2024-05-27</td>\n",
       "      <td>300.68</td>\n",
       "      <td>Asia</td>\n",
       "      <td>2024-09-04</td>\n",
       "      <td>-100</td>\n",
       "    </tr>\n",
       "    <tr>\n",
       "      <th>6</th>\n",
       "      <td>2024-07-12</td>\n",
       "      <td>1011.66</td>\n",
       "      <td>Asia</td>\n",
       "      <td>2024-09-04</td>\n",
       "      <td>-54</td>\n",
       "    </tr>\n",
       "    <tr>\n",
       "      <th>7</th>\n",
       "      <td>2024-05-24</td>\n",
       "      <td>433.64</td>\n",
       "      <td>Asia</td>\n",
       "      <td>2024-09-04</td>\n",
       "      <td>-103</td>\n",
       "    </tr>\n",
       "    <tr>\n",
       "      <th>9</th>\n",
       "      <td>2024-02-08</td>\n",
       "      <td>337.91</td>\n",
       "      <td>Europe</td>\n",
       "      <td>2024-04-04</td>\n",
       "      <td>-56</td>\n",
       "    </tr>\n",
       "    <tr>\n",
       "      <th>12</th>\n",
       "      <td>2024-01-18</td>\n",
       "      <td>942.32</td>\n",
       "      <td>Europe</td>\n",
       "      <td>2024-04-04</td>\n",
       "      <td>-77</td>\n",
       "    </tr>\n",
       "    <tr>\n",
       "      <th>...</th>\n",
       "      <td>...</td>\n",
       "      <td>...</td>\n",
       "      <td>...</td>\n",
       "      <td>...</td>\n",
       "      <td>...</td>\n",
       "    </tr>\n",
       "    <tr>\n",
       "      <th>977</th>\n",
       "      <td>2024-03-06</td>\n",
       "      <td>257.00</td>\n",
       "      <td>South America</td>\n",
       "      <td>2024-04-11</td>\n",
       "      <td>-36</td>\n",
       "    </tr>\n",
       "    <tr>\n",
       "      <th>985</th>\n",
       "      <td>2024-01-28</td>\n",
       "      <td>396.34</td>\n",
       "      <td>North America</td>\n",
       "      <td>2024-01-30</td>\n",
       "      <td>-2</td>\n",
       "    </tr>\n",
       "    <tr>\n",
       "      <th>992</th>\n",
       "      <td>2024-01-31</td>\n",
       "      <td>599.86</td>\n",
       "      <td>Asia</td>\n",
       "      <td>2024-11-11</td>\n",
       "      <td>-285</td>\n",
       "    </tr>\n",
       "    <tr>\n",
       "      <th>993</th>\n",
       "      <td>2024-09-29</td>\n",
       "      <td>919.72</td>\n",
       "      <td>Asia</td>\n",
       "      <td>2024-11-11</td>\n",
       "      <td>-43</td>\n",
       "    </tr>\n",
       "    <tr>\n",
       "      <th>999</th>\n",
       "      <td>2024-01-02</td>\n",
       "      <td>942.32</td>\n",
       "      <td>Asia</td>\n",
       "      <td>2024-09-21</td>\n",
       "      <td>-263</td>\n",
       "    </tr>\n",
       "  </tbody>\n",
       "</table>\n",
       "<p>201 rows × 5 columns</p>\n",
       "</div>"
      ],
      "text/plain": [
       "    TransactionDate  TotalValue         Region SignupDate  how_long_customer\n",
       "4        2024-05-27      300.68           Asia 2024-09-04               -100\n",
       "6        2024-07-12     1011.66           Asia 2024-09-04                -54\n",
       "7        2024-05-24      433.64           Asia 2024-09-04               -103\n",
       "9        2024-02-08      337.91         Europe 2024-04-04                -56\n",
       "12       2024-01-18      942.32         Europe 2024-04-04                -77\n",
       "..              ...         ...            ...        ...                ...\n",
       "977      2024-03-06      257.00  South America 2024-04-11                -36\n",
       "985      2024-01-28      396.34  North America 2024-01-30                 -2\n",
       "992      2024-01-31      599.86           Asia 2024-11-11               -285\n",
       "993      2024-09-29      919.72           Asia 2024-11-11                -43\n",
       "999      2024-01-02      942.32           Asia 2024-09-21               -263\n",
       "\n",
       "[201 rows x 5 columns]"
      ]
     },
     "execution_count": 17,
     "metadata": {},
     "output_type": "execute_result"
    }
   ],
   "source": [
    "#finding customers with early transaction and later signup.wrong data\n",
    "df1[df1[\"how_long_customer\"]<0]"
   ]
  },
  {
   "cell_type": "code",
   "execution_count": 18,
   "id": "600a5393-b64c-4743-979b-f24ef3a23cba",
   "metadata": {},
   "outputs": [],
   "source": [
    "# dropping rows\n",
    "df1 = df1.drop(df1[df1['how_long_customer'] < 0].index)"
   ]
  },
  {
   "cell_type": "code",
   "execution_count": 19,
   "id": "b949841d-1295-4fde-a5b9-6408076ec7b2",
   "metadata": {},
   "outputs": [],
   "source": [
    "#dropping columns\n",
    "df1=df1.drop([\"TransactionDate\",\"SignupDate\",\"Region\"],axis=1)"
   ]
  },
  {
   "cell_type": "code",
   "execution_count": 20,
   "id": "48c1d2c7-dbaf-4aa3-849c-17d72f5ea63a",
   "metadata": {},
   "outputs": [
    {
     "data": {
      "text/html": [
       "<div>\n",
       "<style scoped>\n",
       "    .dataframe tbody tr th:only-of-type {\n",
       "        vertical-align: middle;\n",
       "    }\n",
       "\n",
       "    .dataframe tbody tr th {\n",
       "        vertical-align: top;\n",
       "    }\n",
       "\n",
       "    .dataframe thead th {\n",
       "        text-align: right;\n",
       "    }\n",
       "</style>\n",
       "<table border=\"1\" class=\"dataframe\">\n",
       "  <thead>\n",
       "    <tr style=\"text-align: right;\">\n",
       "      <th></th>\n",
       "      <th>TotalValue</th>\n",
       "      <th>how_long_customer</th>\n",
       "    </tr>\n",
       "  </thead>\n",
       "  <tbody>\n",
       "    <tr>\n",
       "      <th>0</th>\n",
       "      <td>300.68</td>\n",
       "      <td>631</td>\n",
       "    </tr>\n",
       "    <tr>\n",
       "      <th>1</th>\n",
       "      <td>550.16</td>\n",
       "      <td>668</td>\n",
       "    </tr>\n",
       "    <tr>\n",
       "      <th>2</th>\n",
       "      <td>834.74</td>\n",
       "      <td>623</td>\n",
       "    </tr>\n",
       "    <tr>\n",
       "      <th>3</th>\n",
       "      <td>293.70</td>\n",
       "      <td>693</td>\n",
       "    </tr>\n",
       "    <tr>\n",
       "      <th>5</th>\n",
       "      <td>824.82</td>\n",
       "      <td>105</td>\n",
       "    </tr>\n",
       "    <tr>\n",
       "      <th>...</th>\n",
       "      <td>...</td>\n",
       "      <td>...</td>\n",
       "    </tr>\n",
       "    <tr>\n",
       "      <th>994</th>\n",
       "      <td>396.34</td>\n",
       "      <td>4</td>\n",
       "    </tr>\n",
       "    <tr>\n",
       "      <th>995</th>\n",
       "      <td>32.16</td>\n",
       "      <td>309</td>\n",
       "    </tr>\n",
       "    <tr>\n",
       "      <th>996</th>\n",
       "      <td>1252.11</td>\n",
       "      <td>576</td>\n",
       "    </tr>\n",
       "    <tr>\n",
       "      <th>997</th>\n",
       "      <td>223.96</td>\n",
       "      <td>32</td>\n",
       "    </tr>\n",
       "    <tr>\n",
       "      <th>998</th>\n",
       "      <td>995.52</td>\n",
       "      <td>26</td>\n",
       "    </tr>\n",
       "  </tbody>\n",
       "</table>\n",
       "<p>799 rows × 2 columns</p>\n",
       "</div>"
      ],
      "text/plain": [
       "     TotalValue  how_long_customer\n",
       "0        300.68                631\n",
       "1        550.16                668\n",
       "2        834.74                623\n",
       "3        293.70                693\n",
       "5        824.82                105\n",
       "..          ...                ...\n",
       "994      396.34                  4\n",
       "995       32.16                309\n",
       "996     1252.11                576\n",
       "997      223.96                 32\n",
       "998      995.52                 26\n",
       "\n",
       "[799 rows x 2 columns]"
      ]
     },
     "execution_count": 20,
     "metadata": {},
     "output_type": "execute_result"
    }
   ],
   "source": [
    "df1"
   ]
  },
  {
   "cell_type": "markdown",
   "id": "de5d01ff-8a8c-4d68-82bb-189c2a4bf3f8",
   "metadata": {},
   "source": [
    "# CLUSTERING\n",
    "**Here we are using K-Means Clustering**"
   ]
  },
  {
   "cell_type": "markdown",
   "id": "b3eb6209-3556-4393-8752-8051f7720a08",
   "metadata": {},
   "source": [
    "*finding k- value*"
   ]
  },
  {
   "cell_type": "code",
   "execution_count": 21,
   "id": "a7c624f5-6267-4c3d-911a-5604e71b3335",
   "metadata": {},
   "outputs": [
    {
     "name": "stderr",
     "output_type": "stream",
     "text": [
      "C:\\Users\\Biji\\AppData\\Local\\Packages\\PythonSoftwareFoundation.Python.3.11_qbz5n2kfra8p0\\LocalCache\\local-packages\\Python311\\site-packages\\sklearn\\cluster\\_kmeans.py:1412: FutureWarning: The default value of `n_init` will change from 10 to 'auto' in 1.4. Set the value of `n_init` explicitly to suppress the warning\n",
      "  super()._check_params_vs_input(X, default_n_init=10)\n",
      "C:\\Users\\Biji\\AppData\\Local\\Packages\\PythonSoftwareFoundation.Python.3.11_qbz5n2kfra8p0\\LocalCache\\local-packages\\Python311\\site-packages\\sklearn\\cluster\\_kmeans.py:1412: FutureWarning: The default value of `n_init` will change from 10 to 'auto' in 1.4. Set the value of `n_init` explicitly to suppress the warning\n",
      "  super()._check_params_vs_input(X, default_n_init=10)\n",
      "C:\\Users\\Biji\\AppData\\Local\\Packages\\PythonSoftwareFoundation.Python.3.11_qbz5n2kfra8p0\\LocalCache\\local-packages\\Python311\\site-packages\\sklearn\\cluster\\_kmeans.py:1412: FutureWarning: The default value of `n_init` will change from 10 to 'auto' in 1.4. Set the value of `n_init` explicitly to suppress the warning\n",
      "  super()._check_params_vs_input(X, default_n_init=10)\n",
      "C:\\Users\\Biji\\AppData\\Local\\Packages\\PythonSoftwareFoundation.Python.3.11_qbz5n2kfra8p0\\LocalCache\\local-packages\\Python311\\site-packages\\sklearn\\cluster\\_kmeans.py:1412: FutureWarning: The default value of `n_init` will change from 10 to 'auto' in 1.4. Set the value of `n_init` explicitly to suppress the warning\n",
      "  super()._check_params_vs_input(X, default_n_init=10)\n",
      "C:\\Users\\Biji\\AppData\\Local\\Packages\\PythonSoftwareFoundation.Python.3.11_qbz5n2kfra8p0\\LocalCache\\local-packages\\Python311\\site-packages\\sklearn\\cluster\\_kmeans.py:1412: FutureWarning: The default value of `n_init` will change from 10 to 'auto' in 1.4. Set the value of `n_init` explicitly to suppress the warning\n",
      "  super()._check_params_vs_input(X, default_n_init=10)\n",
      "C:\\Users\\Biji\\AppData\\Local\\Packages\\PythonSoftwareFoundation.Python.3.11_qbz5n2kfra8p0\\LocalCache\\local-packages\\Python311\\site-packages\\sklearn\\cluster\\_kmeans.py:1412: FutureWarning: The default value of `n_init` will change from 10 to 'auto' in 1.4. Set the value of `n_init` explicitly to suppress the warning\n",
      "  super()._check_params_vs_input(X, default_n_init=10)\n",
      "C:\\Users\\Biji\\AppData\\Local\\Packages\\PythonSoftwareFoundation.Python.3.11_qbz5n2kfra8p0\\LocalCache\\local-packages\\Python311\\site-packages\\sklearn\\cluster\\_kmeans.py:1412: FutureWarning: The default value of `n_init` will change from 10 to 'auto' in 1.4. Set the value of `n_init` explicitly to suppress the warning\n",
      "  super()._check_params_vs_input(X, default_n_init=10)\n",
      "C:\\Users\\Biji\\AppData\\Local\\Packages\\PythonSoftwareFoundation.Python.3.11_qbz5n2kfra8p0\\LocalCache\\local-packages\\Python311\\site-packages\\sklearn\\cluster\\_kmeans.py:1412: FutureWarning: The default value of `n_init` will change from 10 to 'auto' in 1.4. Set the value of `n_init` explicitly to suppress the warning\n",
      "  super()._check_params_vs_input(X, default_n_init=10)\n",
      "C:\\Users\\Biji\\AppData\\Local\\Packages\\PythonSoftwareFoundation.Python.3.11_qbz5n2kfra8p0\\LocalCache\\local-packages\\Python311\\site-packages\\sklearn\\cluster\\_kmeans.py:1412: FutureWarning: The default value of `n_init` will change from 10 to 'auto' in 1.4. Set the value of `n_init` explicitly to suppress the warning\n",
      "  super()._check_params_vs_input(X, default_n_init=10)\n"
     ]
    }
   ],
   "source": [
    "#finding the ideal number of clusters by finding sum of square errors sse\n",
    "sse=[]\n",
    "k_range=range(1,10)\n",
    "for i in k_range:\n",
    "    km=KMeans(n_clusters=i)\n",
    "    km.fit(df1)\n",
    "    sse.append(km.inertia_)"
   ]
  },
  {
   "cell_type": "code",
   "execution_count": 22,
   "id": "b91641a8-f5bf-4a64-b5b6-5c450612feb7",
   "metadata": {},
   "outputs": [
    {
     "data": {
      "text/plain": [
       "[259683986.15258223,\n",
       " 114411165.62031285,\n",
       " 82834267.22402143,\n",
       " 59045700.054015175,\n",
       " 46195099.063397594,\n",
       " 37553331.77448931,\n",
       " 33253773.98233214,\n",
       " 29336336.873614363,\n",
       " 26547810.37190954]"
      ]
     },
     "execution_count": 22,
     "metadata": {},
     "output_type": "execute_result"
    }
   ],
   "source": [
    "sse"
   ]
  },
  {
   "cell_type": "code",
   "execution_count": 23,
   "id": "d74e9322-8056-4f89-bb58-361c2bf6ac05",
   "metadata": {},
   "outputs": [
    {
     "data": {
      "image/png": "[encoded data removed]",
      "text/plain": [
       "<Figure size 640x480 with 1 Axes>"
      ]
     },
     "metadata": {},
     "output_type": "display_data"
    }
   ],
   "source": [
    "# plotting sum of square errors with corresponding iterated k value\n",
    "plt.plot(k_range,sse)\n",
    "plt.xlabel(\"k_value\")\n",
    "plt.ylabel(\"sse\")\n",
    "plt.show()"
   ]
  },
  {
   "cell_type": "markdown",
   "id": "15eb7651-0851-455e-a5ca-7c4576a353c3",
   "metadata": {},
   "source": [
    "**take cluster k value as 4**"
   ]
  },
  {
   "cell_type": "markdown",
   "id": "487d9c9e-4589-4f59-800a-64bc5604da45",
   "metadata": {},
   "source": [
    "**K Means cluster Algorithm**"
   ]
  },
  {
   "cell_type": "code",
   "execution_count": 24,
   "id": "559ec5bc-7d2c-4458-87e8-25362d953d07",
   "metadata": {},
   "outputs": [
    {
     "name": "stderr",
     "output_type": "stream",
     "text": [
      "C:\\Users\\Biji\\AppData\\Local\\Packages\\PythonSoftwareFoundation.Python.3.11_qbz5n2kfra8p0\\LocalCache\\local-packages\\Python311\\site-packages\\sklearn\\cluster\\_kmeans.py:1412: FutureWarning: The default value of `n_init` will change from 10 to 'auto' in 1.4. Set the value of `n_init` explicitly to suppress the warning\n",
      "  super()._check_params_vs_input(X, default_n_init=10)\n"
     ]
    },
    {
     "data": {
      "text/html": [
       "<style>#sk-container-id-1 {color: black;}#sk-container-id-1 pre{padding: 0;}#sk-container-id-1 div.sk-toggleable {background-color: white;}#sk-container-id-1 label.sk-toggleable__label {cursor: pointer;display: block;width: 100%;margin-bottom: 0;padding: 0.3em;box-sizing: border-box;text-align: center;}#sk-container-id-1 label.sk-toggleable__label-arrow:before {content: \"▸\";float: left;margin-right: 0.25em;color: #696969;}#sk-container-id-1 label.sk-toggleable__label-arrow:hover:before {color: black;}#sk-container-id-1 div.sk-estimator:hover label.sk-toggleable__label-arrow:before {color: black;}#sk-container-id-1 div.sk-toggleable__content {max-height: 0;max-width: 0;overflow: hidden;text-align: left;background-color: #f0f8ff;}#sk-container-id-1 div.sk-toggleable__content pre {margin: 0.2em;color: black;border-radius: 0.25em;background-color: #f0f8ff;}#sk-container-id-1 input.sk-toggleable__control:checked~div.sk-toggleable__content {max-height: 200px;max-width: 100%;overflow: auto;}#sk-container-id-1 input.sk-toggleable__control:checked~label.sk-toggleable__label-arrow:before {content: \"▾\";}#sk-container-id-1 div.sk-estimator input.sk-toggleable__control:checked~label.sk-toggleable__label {background-color: #d4ebff;}#sk-container-id-1 div.sk-label input.sk-toggleable__control:checked~label.sk-toggleable__label {background-color: #d4ebff;}#sk-container-id-1 input.sk-hidden--visually {border: 0;clip: rect(1px 1px 1px 1px);clip: rect(1px, 1px, 1px, 1px);height: 1px;margin: -1px;overflow: hidden;padding: 0;position: absolute;width: 1px;}#sk-container-id-1 div.sk-estimator {font-family: monospace;background-color: #f0f8ff;border: 1px dotted black;border-radius: 0.25em;box-sizing: border-box;margin-bottom: 0.5em;}#sk-container-id-1 div.sk-estimator:hover {background-color: #d4ebff;}#sk-container-id-1 div.sk-parallel-item::after {content: \"\";width: 100%;border-bottom: 1px solid gray;flex-grow: 1;}#sk-container-id-1 div.sk-label:hover label.sk-toggleable__label {background-color: #d4ebff;}#sk-container-id-1 div.sk-serial::before {content: \"\";position: absolute;border-left: 1px solid gray;box-sizing: border-box;top: 0;bottom: 0;left: 50%;z-index: 0;}#sk-container-id-1 div.sk-serial {display: flex;flex-direction: column;align-items: center;background-color: white;padding-right: 0.2em;padding-left: 0.2em;position: relative;}#sk-container-id-1 div.sk-item {position: relative;z-index: 1;}#sk-container-id-1 div.sk-parallel {display: flex;align-items: stretch;justify-content: center;background-color: white;position: relative;}#sk-container-id-1 div.sk-item::before, #sk-container-id-1 div.sk-parallel-item::before {content: \"\";position: absolute;border-left: 1px solid gray;box-sizing: border-box;top: 0;bottom: 0;left: 50%;z-index: -1;}#sk-container-id-1 div.sk-parallel-item {display: flex;flex-direction: column;z-index: 1;position: relative;background-color: white;}#sk-container-id-1 div.sk-parallel-item:first-child::after {align-self: flex-end;width: 50%;}#sk-container-id-1 div.sk-parallel-item:last-child::after {align-self: flex-start;width: 50%;}#sk-container-id-1 div.sk-parallel-item:only-child::after {width: 0;}#sk-container-id-1 div.sk-dashed-wrapped {border: 1px dashed gray;margin: 0 0.4em 0.5em 0.4em;box-sizing: border-box;padding-bottom: 0.4em;background-color: white;}#sk-container-id-1 div.sk-label label {font-family: monospace;font-weight: bold;display: inline-block;line-height: 1.2em;}#sk-container-id-1 div.sk-label-container {text-align: center;}#sk-container-id-1 div.sk-container {/* jupyter's `normalize.less` sets `[hidden] { display: none; }` but bootstrap.min.css set `[hidden] { display: none !important; }` so we also need the `!important` here to be able to override the default hidden behavior on the sphinx rendered scikit-learn.org. See: https://github.com/scikit-learn/scikit-learn/issues/21755 */display: inline-block !important;position: relative;}#sk-container-id-1 div.sk-text-repr-fallback {display: none;}</style><div id=\"sk-container-id-1\" class=\"sk-top-container\"><div class=\"sk-text-repr-fallback\"><pre>KMeans(n_clusters=4)</pre><b>In a Jupyter environment, please rerun this cell to show the HTML representation or trust the notebook. <br />On GitHub, the HTML representation is unable to render, please try loading this page with nbviewer.org.</b></div><div class=\"sk-container\" hidden><div class=\"sk-item\"><div class=\"sk-estimator sk-toggleable\"><input class=\"sk-toggleable__control sk-hidden--visually\" id=\"sk-estimator-id-1\" type=\"checkbox\" checked><label for=\"sk-estimator-id-1\" class=\"sk-toggleable__label sk-toggleable__label-arrow\">KMeans</label><div class=\"sk-toggleable__content\"><pre>KMeans(n_clusters=4)</pre></div></div></div></div></div>"
      ],
      "text/plain": [
       "KMeans(n_clusters=4)"
      ]
     },
     "execution_count": 24,
     "metadata": {},
     "output_type": "execute_result"
    }
   ],
   "source": [
    "km=KMeans(n_clusters=4)\n",
    "km.fit(df1)"
   ]
  },
  {
   "cell_type": "code",
   "execution_count": 25,
   "id": "79ef642f-2ab5-418c-945d-22fe5cd30b10",
   "metadata": {},
   "outputs": [],
   "source": [
    "# cluster prediction\n",
    "ypred=km.predict(df1)"
   ]
  },
  {
   "cell_type": "code",
   "execution_count": 26,
   "id": "34ff954c-4452-4a75-9f7e-978a55900c3d",
   "metadata": {},
   "outputs": [],
   "source": [
    "df1[\"cluster\"]=ypred"
   ]
  },
  {
   "cell_type": "code",
   "execution_count": 27,
   "id": "cc24d725-f0a6-44c7-8ba0-325334b9cc49",
   "metadata": {},
   "outputs": [
    {
     "data": {
      "text/html": [
       "<div>\n",
       "<style scoped>\n",
       "    .dataframe tbody tr th:only-of-type {\n",
       "        vertical-align: middle;\n",
       "    }\n",
       "\n",
       "    .dataframe tbody tr th {\n",
       "        vertical-align: top;\n",
       "    }\n",
       "\n",
       "    .dataframe thead th {\n",
       "        text-align: right;\n",
       "    }\n",
       "</style>\n",
       "<table border=\"1\" class=\"dataframe\">\n",
       "  <thead>\n",
       "    <tr style=\"text-align: right;\">\n",
       "      <th></th>\n",
       "      <th>TotalValue</th>\n",
       "      <th>how_long_customer</th>\n",
       "      <th>cluster</th>\n",
       "    </tr>\n",
       "  </thead>\n",
       "  <tbody>\n",
       "    <tr>\n",
       "      <th>0</th>\n",
       "      <td>300.68</td>\n",
       "      <td>631</td>\n",
       "      <td>3</td>\n",
       "    </tr>\n",
       "    <tr>\n",
       "      <th>1</th>\n",
       "      <td>550.16</td>\n",
       "      <td>668</td>\n",
       "      <td>3</td>\n",
       "    </tr>\n",
       "    <tr>\n",
       "      <th>2</th>\n",
       "      <td>834.74</td>\n",
       "      <td>623</td>\n",
       "      <td>2</td>\n",
       "    </tr>\n",
       "    <tr>\n",
       "      <th>3</th>\n",
       "      <td>293.70</td>\n",
       "      <td>693</td>\n",
       "      <td>3</td>\n",
       "    </tr>\n",
       "    <tr>\n",
       "      <th>5</th>\n",
       "      <td>824.82</td>\n",
       "      <td>105</td>\n",
       "      <td>2</td>\n",
       "    </tr>\n",
       "    <tr>\n",
       "      <th>...</th>\n",
       "      <td>...</td>\n",
       "      <td>...</td>\n",
       "      <td>...</td>\n",
       "    </tr>\n",
       "    <tr>\n",
       "      <th>994</th>\n",
       "      <td>396.34</td>\n",
       "      <td>4</td>\n",
       "      <td>0</td>\n",
       "    </tr>\n",
       "    <tr>\n",
       "      <th>995</th>\n",
       "      <td>32.16</td>\n",
       "      <td>309</td>\n",
       "      <td>0</td>\n",
       "    </tr>\n",
       "    <tr>\n",
       "      <th>996</th>\n",
       "      <td>1252.11</td>\n",
       "      <td>576</td>\n",
       "      <td>1</td>\n",
       "    </tr>\n",
       "    <tr>\n",
       "      <th>997</th>\n",
       "      <td>223.96</td>\n",
       "      <td>32</td>\n",
       "      <td>0</td>\n",
       "    </tr>\n",
       "    <tr>\n",
       "      <th>998</th>\n",
       "      <td>995.52</td>\n",
       "      <td>26</td>\n",
       "      <td>2</td>\n",
       "    </tr>\n",
       "  </tbody>\n",
       "</table>\n",
       "<p>799 rows × 3 columns</p>\n",
       "</div>"
      ],
      "text/plain": [
       "     TotalValue  how_long_customer  cluster\n",
       "0        300.68                631        3\n",
       "1        550.16                668        3\n",
       "2        834.74                623        2\n",
       "3        293.70                693        3\n",
       "5        824.82                105        2\n",
       "..          ...                ...      ...\n",
       "994      396.34                  4        0\n",
       "995       32.16                309        0\n",
       "996     1252.11                576        1\n",
       "997      223.96                 32        0\n",
       "998      995.52                 26        2\n",
       "\n",
       "[799 rows x 3 columns]"
      ]
     },
     "execution_count": 27,
     "metadata": {},
     "output_type": "execute_result"
    }
   ],
   "source": [
    "df1"
   ]
  },
  {
   "cell_type": "code",
   "execution_count": 28,
   "id": "4438f593-02dd-42ad-9d3d-c8344c49df85",
   "metadata": {},
   "outputs": [
    {
     "data": {
      "text/plain": [
       "array([3, 2, 0, 1])"
      ]
     },
     "execution_count": 28,
     "metadata": {},
     "output_type": "execute_result"
    }
   ],
   "source": [
    "df1[\"cluster\"].unique()"
   ]
  },
  {
   "cell_type": "markdown",
   "id": "b13c40cd-4552-4dc6-8d6c-3ed206fbc9cf",
   "metadata": {},
   "source": [
    "# EXPLORATORY DATA ANALYSIS OF CLUSTERING(EDA)"
   ]
  },
  {
   "cell_type": "code",
   "execution_count": 29,
   "id": "099cfc25-8ccb-4e6f-ad50-35e7379c47bc",
   "metadata": {},
   "outputs": [
    {
     "data": {
      "text/plain": [
       "<Axes: xlabel='cluster'>"
      ]
     },
     "execution_count": 29,
     "metadata": {},
     "output_type": "execute_result"
    },
    {
     "data": {
      "image/png": "[encoded data removed]",
      "text/plain": [
       "<Figure size 640x480 with 1 Axes>"
      ]
     },
     "metadata": {},
     "output_type": "display_data"
    }
   ],
   "source": [
    "df1[\"cluster\"].value_counts().plot(kind=\"bar\",color='orange')"
   ]
  },
  {
   "cell_type": "code",
   "execution_count": 30,
   "id": "1c67adb3-2220-492e-ace3-18658c16d2c2",
   "metadata": {},
   "outputs": [
    {
     "data": {
      "text/plain": [
       "<Axes: xlabel='how_long_customer', ylabel='TotalValue'>"
      ]
     },
     "execution_count": 30,
     "metadata": {},
     "output_type": "execute_result"
    },
    {
     "data": {
      "image/png": "[encoded data removed]",
      "text/plain": [
       "<Figure size 640x480 with 1 Axes>"
      ]
     },
     "metadata": {},
     "output_type": "display_data"
    }
   ],
   "source": [
    "sns.scatterplot(data = df1,x=df1[\"how_long_customer\"], y=df1[\"TotalValue\"],hue=df1[\"cluster\"],palette=\"Set2\")"
   ]
  },
  {
   "cell_type": "markdown",
   "id": "0788e5af-25e3-4bb8-90e0-9c67b401a27b",
   "metadata": {},
   "source": [
    "## Here 4 clusters are visible\n",
    "* new customers with low spending is cluster 0\n",
    "* high spending customers are cluster 1\n",
    "* old customers with low spending is cluster 3\n",
    "* customers with medium spending is cluster 2\n",
    "* majority is cluster0-new customer low spending\n",
    "* least is high spending customers"
   ]
  },
  {
   "cell_type": "code",
   "execution_count": 31,
   "id": "b4c4b390-8fbf-48d3-bd8f-cd8493d155b6",
   "metadata": {},
   "outputs": [],
   "source": [
    "df_0=df1[df1[\"cluster\"]==0]\n",
    "df_1=df1[df1[\"cluster\"]==1]\n",
    "df_2=df1[df1[\"cluster\"]==2]\n",
    "df_3=df1[df1[\"cluster\"]==3]"
   ]
  },
  {
   "cell_type": "code",
   "execution_count": 32,
   "id": "e5f73ed7-b71f-4dd4-bfa1-f28b4eefd3a0",
   "metadata": {},
   "outputs": [
    {
     "data": {
      "image/png": "[encoded data removed]",
      "text/plain": [
       "<Figure size 640x480 with 1 Axes>"
      ]
     },
     "metadata": {},
     "output_type": "display_data"
    }
   ],
   "source": [
    "plt.scatter(df_0[\"how_long_customer\"],df_0[\"TotalValue\"],color=\"pink\")\n",
    "plt.scatter(df_1[\"how_long_customer\"],df_1[\"TotalValue\"],color=\"lightskyblue\")\n",
    "plt.scatter(df_2[\"how_long_customer\"],df_2[\"TotalValue\"],color=\"orange\")\n",
    "plt.scatter(df_3[\"how_long_customer\"],df_3[\"TotalValue\"],color=\"green\")\n",
    "plt.xlabel(\"how_long_customer\")\n",
    "plt.ylabel(\"TotalValue\")\n",
    "plt.show()"
   ]
  },
  {
   "cell_type": "markdown",
   "id": "464ffef3-2658-454d-9f79-56295ccf3bf8",
   "metadata": {},
   "source": [
    "## EVALUATION OF CUSTOMER SEGMENTATION"
   ]
  },
  {
   "cell_type": "code",
   "execution_count": 33,
   "id": "417a0167-b737-47ad-abeb-1bcf676c201d",
   "metadata": {},
   "outputs": [
    {
     "name": "stdout",
     "output_type": "stream",
     "text": [
      "Silhouette Score: 0.4\n",
      "Davies-Bouldin Index: 0.89\n",
      "Calinski-Harabasz Index: 900.46\n",
      "Adjusted Rand Index: 1.0\n",
      "Mutual Information (MI): 1.38\n"
     ]
    }
   ],
   "source": [
    "# Calculate clustering metrics\n",
    "sil = silhouette_score(df1, km.labels_)\n",
    "db = davies_bouldin_score(df1, km.labels_)\n",
    "ch = calinski_harabasz_score(df1, km.labels_)\n",
    "ari = adjusted_rand_score(df1.cluster, km.labels_)\n",
    "mi = mutual_info_score(df1.cluster, km.labels_)\n",
    "\n",
    "# Print the metric scores\n",
    "print(\"Silhouette Score:\", round(sil,2))\n",
    "print(\"Davies-Bouldin Index:\", round(db,2))\n",
    "print(\"Calinski-Harabasz Index:\", round(ch,2))\n",
    "print(\"Adjusted Rand Index:\", round(ari,2))\n",
    "print(\"Mutual Information (MI):\", round(mi,2))"
   ]
  }
 ],
 "metadata": {
  "kernelspec": {
   "display_name": "Python 3 (ipykernel)",
   "language": "python",
   "name": "python3"
  },
  "language_info": {
   "codemirror_mode": {
    "name": "ipython",
    "version": 3
   },
   "file_extension": ".py",
   "mimetype": "text/x-python",
   "name": "python",
   "nbconvert_exporter": "python",
   "pygments_lexer": "ipython3",
   "version": "3.11.9"
  }
 },
 "nbformat": 4,
 "nbformat_minor": 5
}
