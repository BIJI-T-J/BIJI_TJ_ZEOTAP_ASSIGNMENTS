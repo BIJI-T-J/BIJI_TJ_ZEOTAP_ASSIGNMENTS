{
 "cells": [
  {
   "cell_type": "markdown",
   "id": "513638c3-ba1c-4dec-b7df-42accc4ded9e",
   "metadata": {},
   "source": [
    "<center><h1>E-COMMERCE TRANSACTION DATA ANALYSIS</h1>"
   ]
  },
  {
   "cell_type": "markdown",
   "id": "785cefb7-3ace-48f2-bd0d-36a3ac5b0892",
   "metadata": {},
   "source": [
    "## DATA CLEANING AND PREPROCESSING"
   ]
  },
  {
   "cell_type": "code",
   "execution_count": 1,
   "id": "31a2ac99-9518-4d81-8023-a36d2e3f8981",
   "metadata": {},
   "outputs": [],
   "source": [
    "#import necessary libraries\n",
    "import pandas as pd\n",
    "import numpy as np\n",
    "import matplotlib.pyplot as plt\n",
    "import seaborn as sns"
   ]
  },
  {
   "cell_type": "code",
   "execution_count": 2,
   "id": "e31f451d-5274-45ae-9f1f-1a13ce88bbdc",
   "metadata": {},
   "outputs": [],
   "source": [
    "# loading dataset\n",
    "c_df=pd.read_csv(\"customers.csv\")\n",
    "p_df=pd.read_csv(\"products.csv\")\n",
    "t_df=pd.read_csv(\"transactions.csv\")"
   ]
  },
  {
   "cell_type": "code",
   "execution_count": 3,
   "id": "cfee2a06-f824-4d09-967d-64247ae3c8d1",
   "metadata": {},
   "outputs": [
    {
     "data": {
      "text/html": [
       "<div>\n",
       "<style scoped>\n",
       "    .dataframe tbody tr th:only-of-type {\n",
       "        vertical-align: middle;\n",
       "    }\n",
       "\n",
       "    .dataframe tbody tr th {\n",
       "        vertical-align: top;\n",
       "    }\n",
       "\n",
       "    .dataframe thead th {\n",
       "        text-align: right;\n",
       "    }\n",
       "</style>\n",
       "<table border=\"1\" class=\"dataframe\">\n",
       "  <thead>\n",
       "    <tr style=\"text-align: right;\">\n",
       "      <th></th>\n",
       "      <th>CustomerID</th>\n",
       "      <th>CustomerName</th>\n",
       "      <th>Region</th>\n",
       "      <th>SignupDate</th>\n",
       "    </tr>\n",
       "  </thead>\n",
       "  <tbody>\n",
       "    <tr>\n",
       "      <th>0</th>\n",
       "      <td>C0001</td>\n",
       "      <td>Lawrence Carroll</td>\n",
       "      <td>South America</td>\n",
       "      <td>2022-07-10</td>\n",
       "    </tr>\n",
       "    <tr>\n",
       "      <th>1</th>\n",
       "      <td>C0002</td>\n",
       "      <td>Elizabeth Lutz</td>\n",
       "      <td>Asia</td>\n",
       "      <td>2022-02-13</td>\n",
       "    </tr>\n",
       "    <tr>\n",
       "      <th>2</th>\n",
       "      <td>C0003</td>\n",
       "      <td>Michael Rivera</td>\n",
       "      <td>South America</td>\n",
       "      <td>2024-03-07</td>\n",
       "    </tr>\n",
       "    <tr>\n",
       "      <th>3</th>\n",
       "      <td>C0004</td>\n",
       "      <td>Kathleen Rodriguez</td>\n",
       "      <td>South America</td>\n",
       "      <td>2022-10-09</td>\n",
       "    </tr>\n",
       "    <tr>\n",
       "      <th>4</th>\n",
       "      <td>C0005</td>\n",
       "      <td>Laura Weber</td>\n",
       "      <td>Asia</td>\n",
       "      <td>2022-08-15</td>\n",
       "    </tr>\n",
       "  </tbody>\n",
       "</table>\n",
       "</div>"
      ],
      "text/plain": [
       "  CustomerID        CustomerName         Region  SignupDate\n",
       "0      C0001    Lawrence Carroll  South America  2022-07-10\n",
       "1      C0002      Elizabeth Lutz           Asia  2022-02-13\n",
       "2      C0003      Michael Rivera  South America  2024-03-07\n",
       "3      C0004  Kathleen Rodriguez  South America  2022-10-09\n",
       "4      C0005         Laura Weber           Asia  2022-08-15"
      ]
     },
     "execution_count": 3,
     "metadata": {},
     "output_type": "execute_result"
    }
   ],
   "source": [
    "c_df.head()"
   ]
  },
  {
   "cell_type": "code",
   "execution_count": 4,
   "id": "039e2ddb-3025-4e8f-a951-0d73509a931d",
   "metadata": {},
   "outputs": [
    {
     "data": {
      "text/plain": [
       "(200, 4)"
      ]
     },
     "execution_count": 4,
     "metadata": {},
     "output_type": "execute_result"
    }
   ],
   "source": [
    "c_df.shape"
   ]
  },
  {
   "cell_type": "code",
   "execution_count": 5,
   "id": "5f07a6b0-aeba-48fc-a19b-8421144baa20",
   "metadata": {},
   "outputs": [
    {
     "data": {
      "text/plain": [
       "CustomerID      0\n",
       "CustomerName    0\n",
       "Region          0\n",
       "SignupDate      0\n",
       "dtype: int64"
      ]
     },
     "execution_count": 5,
     "metadata": {},
     "output_type": "execute_result"
    }
   ],
   "source": [
    "#null value checking\n",
    "c_df.isnull().sum()"
   ]
  },
  {
   "cell_type": "code",
   "execution_count": 6,
   "id": "7db7ec0c-8a1a-4d76-b1b0-c30b75269db1",
   "metadata": {},
   "outputs": [
    {
     "data": {
      "text/plain": [
       "0"
      ]
     },
     "execution_count": 6,
     "metadata": {},
     "output_type": "execute_result"
    }
   ],
   "source": [
    "#duplicate checking\n",
    "c_df.duplicated().sum()"
   ]
  },
  {
   "cell_type": "code",
   "execution_count": 7,
   "id": "dee8a2fe-db23-4577-baa7-70192277eb38",
   "metadata": {},
   "outputs": [
    {
     "data": {
      "text/plain": [
       "CustomerID      object\n",
       "CustomerName    object\n",
       "Region          object\n",
       "SignupDate      object\n",
       "dtype: object"
      ]
     },
     "execution_count": 7,
     "metadata": {},
     "output_type": "execute_result"
    }
   ],
   "source": [
    "c_df.dtypes"
   ]
  },
  {
   "cell_type": "code",
   "execution_count": 8,
   "id": "57f76559-86dd-4525-96a3-4017ccfac2a6",
   "metadata": {},
   "outputs": [],
   "source": [
    "#datatype changing\n",
    "c_df[\"SignupDate\"]=pd.to_datetime(c_df[\"SignupDate\"])"
   ]
  },
  {
   "cell_type": "code",
   "execution_count": 9,
   "id": "7d2cc1b3-7c1d-49d6-9c27-77450c529079",
   "metadata": {},
   "outputs": [
    {
     "data": {
      "text/plain": [
       "CustomerID              object\n",
       "CustomerName            object\n",
       "Region                  object\n",
       "SignupDate      datetime64[ns]\n",
       "dtype: object"
      ]
     },
     "execution_count": 9,
     "metadata": {},
     "output_type": "execute_result"
    }
   ],
   "source": [
    "c_df.dtypes"
   ]
  },
  {
   "cell_type": "code",
   "execution_count": 10,
   "id": "0bfee7ab-da38-4e27-85db-2dff6ba87dfa",
   "metadata": {},
   "outputs": [
    {
     "data": {
      "text/html": [
       "<div>\n",
       "<style scoped>\n",
       "    .dataframe tbody tr th:only-of-type {\n",
       "        vertical-align: middle;\n",
       "    }\n",
       "\n",
       "    .dataframe tbody tr th {\n",
       "        vertical-align: top;\n",
       "    }\n",
       "\n",
       "    .dataframe thead th {\n",
       "        text-align: right;\n",
       "    }\n",
       "</style>\n",
       "<table border=\"1\" class=\"dataframe\">\n",
       "  <thead>\n",
       "    <tr style=\"text-align: right;\">\n",
       "      <th></th>\n",
       "      <th>ProductID</th>\n",
       "      <th>ProductName</th>\n",
       "      <th>Category</th>\n",
       "      <th>Price</th>\n",
       "    </tr>\n",
       "  </thead>\n",
       "  <tbody>\n",
       "    <tr>\n",
       "      <th>0</th>\n",
       "      <td>P001</td>\n",
       "      <td>ActiveWear Biography</td>\n",
       "      <td>Books</td>\n",
       "      <td>169.30</td>\n",
       "    </tr>\n",
       "    <tr>\n",
       "      <th>1</th>\n",
       "      <td>P002</td>\n",
       "      <td>ActiveWear Smartwatch</td>\n",
       "      <td>Electronics</td>\n",
       "      <td>346.30</td>\n",
       "    </tr>\n",
       "    <tr>\n",
       "      <th>2</th>\n",
       "      <td>P003</td>\n",
       "      <td>ComfortLiving Biography</td>\n",
       "      <td>Books</td>\n",
       "      <td>44.12</td>\n",
       "    </tr>\n",
       "    <tr>\n",
       "      <th>3</th>\n",
       "      <td>P004</td>\n",
       "      <td>BookWorld Rug</td>\n",
       "      <td>Home Decor</td>\n",
       "      <td>95.69</td>\n",
       "    </tr>\n",
       "    <tr>\n",
       "      <th>4</th>\n",
       "      <td>P005</td>\n",
       "      <td>TechPro T-Shirt</td>\n",
       "      <td>Clothing</td>\n",
       "      <td>429.31</td>\n",
       "    </tr>\n",
       "  </tbody>\n",
       "</table>\n",
       "</div>"
      ],
      "text/plain": [
       "  ProductID              ProductName     Category   Price\n",
       "0      P001     ActiveWear Biography        Books  169.30\n",
       "1      P002    ActiveWear Smartwatch  Electronics  346.30\n",
       "2      P003  ComfortLiving Biography        Books   44.12\n",
       "3      P004            BookWorld Rug   Home Decor   95.69\n",
       "4      P005          TechPro T-Shirt     Clothing  429.31"
      ]
     },
     "execution_count": 10,
     "metadata": {},
     "output_type": "execute_result"
    }
   ],
   "source": [
    "p_df.head()"
   ]
  },
  {
   "cell_type": "code",
   "execution_count": 11,
   "id": "23c3301e-175c-4402-839b-44145e090416",
   "metadata": {},
   "outputs": [
    {
     "data": {
      "text/plain": [
       "(100, 4)"
      ]
     },
     "execution_count": 11,
     "metadata": {},
     "output_type": "execute_result"
    }
   ],
   "source": [
    "p_df.shape"
   ]
  },
  {
   "cell_type": "code",
   "execution_count": 12,
   "id": "5ff357a5-db24-4896-9322-a247311d2472",
   "metadata": {},
   "outputs": [
    {
     "data": {
      "text/plain": [
       "ProductID      0\n",
       "ProductName    0\n",
       "Category       0\n",
       "Price          0\n",
       "dtype: int64"
      ]
     },
     "execution_count": 12,
     "metadata": {},
     "output_type": "execute_result"
    }
   ],
   "source": [
    "p_df.isnull().sum()"
   ]
  },
  {
   "cell_type": "code",
   "execution_count": 13,
   "id": "1a59d506-129a-4dc6-b54d-9fbce98898a6",
   "metadata": {},
   "outputs": [
    {
     "data": {
      "text/plain": [
       "0"
      ]
     },
     "execution_count": 13,
     "metadata": {},
     "output_type": "execute_result"
    }
   ],
   "source": [
    "p_df.duplicated().sum()"
   ]
  },
  {
   "cell_type": "code",
   "execution_count": 14,
   "id": "11484297-af8b-458e-97bd-423cd14ce2f5",
   "metadata": {},
   "outputs": [
    {
     "data": {
      "text/plain": [
       "ProductID       object\n",
       "ProductName     object\n",
       "Category        object\n",
       "Price          float64\n",
       "dtype: object"
      ]
     },
     "execution_count": 14,
     "metadata": {},
     "output_type": "execute_result"
    }
   ],
   "source": [
    "p_df.dtypes"
   ]
  },
  {
   "cell_type": "code",
   "execution_count": 15,
   "id": "8948c278-e393-472b-a506-d149fe4a865f",
   "metadata": {},
   "outputs": [
    {
     "data": {
      "text/html": [
       "<div>\n",
       "<style scoped>\n",
       "    .dataframe tbody tr th:only-of-type {\n",
       "        vertical-align: middle;\n",
       "    }\n",
       "\n",
       "    .dataframe tbody tr th {\n",
       "        vertical-align: top;\n",
       "    }\n",
       "\n",
       "    .dataframe thead th {\n",
       "        text-align: right;\n",
       "    }\n",
       "</style>\n",
       "<table border=\"1\" class=\"dataframe\">\n",
       "  <thead>\n",
       "    <tr style=\"text-align: right;\">\n",
       "      <th></th>\n",
       "      <th>TransactionID</th>\n",
       "      <th>CustomerID</th>\n",
       "      <th>ProductID</th>\n",
       "      <th>TransactionDate</th>\n",
       "      <th>Quantity</th>\n",
       "      <th>TotalValue</th>\n",
       "      <th>Price</th>\n",
       "    </tr>\n",
       "  </thead>\n",
       "  <tbody>\n",
       "    <tr>\n",
       "      <th>0</th>\n",
       "      <td>T00001</td>\n",
       "      <td>C0199</td>\n",
       "      <td>P067</td>\n",
       "      <td>2024-08-25 12:38:23</td>\n",
       "      <td>1</td>\n",
       "      <td>300.68</td>\n",
       "      <td>300.68</td>\n",
       "    </tr>\n",
       "    <tr>\n",
       "      <th>1</th>\n",
       "      <td>T00112</td>\n",
       "      <td>C0146</td>\n",
       "      <td>P067</td>\n",
       "      <td>2024-05-27 22:23:54</td>\n",
       "      <td>1</td>\n",
       "      <td>300.68</td>\n",
       "      <td>300.68</td>\n",
       "    </tr>\n",
       "    <tr>\n",
       "      <th>2</th>\n",
       "      <td>T00166</td>\n",
       "      <td>C0127</td>\n",
       "      <td>P067</td>\n",
       "      <td>2024-04-25 07:38:55</td>\n",
       "      <td>1</td>\n",
       "      <td>300.68</td>\n",
       "      <td>300.68</td>\n",
       "    </tr>\n",
       "    <tr>\n",
       "      <th>3</th>\n",
       "      <td>T00272</td>\n",
       "      <td>C0087</td>\n",
       "      <td>P067</td>\n",
       "      <td>2024-03-26 22:55:37</td>\n",
       "      <td>2</td>\n",
       "      <td>601.36</td>\n",
       "      <td>300.68</td>\n",
       "    </tr>\n",
       "    <tr>\n",
       "      <th>4</th>\n",
       "      <td>T00363</td>\n",
       "      <td>C0070</td>\n",
       "      <td>P067</td>\n",
       "      <td>2024-03-21 15:10:10</td>\n",
       "      <td>3</td>\n",
       "      <td>902.04</td>\n",
       "      <td>300.68</td>\n",
       "    </tr>\n",
       "  </tbody>\n",
       "</table>\n",
       "</div>"
      ],
      "text/plain": [
       "  TransactionID CustomerID ProductID      TransactionDate  Quantity  \\\n",
       "0        T00001      C0199      P067  2024-08-25 12:38:23         1   \n",
       "1        T00112      C0146      P067  2024-05-27 22:23:54         1   \n",
       "2        T00166      C0127      P067  2024-04-25 07:38:55         1   \n",
       "3        T00272      C0087      P067  2024-03-26 22:55:37         2   \n",
       "4        T00363      C0070      P067  2024-03-21 15:10:10         3   \n",
       "\n",
       "   TotalValue   Price  \n",
       "0      300.68  300.68  \n",
       "1      300.68  300.68  \n",
       "2      300.68  300.68  \n",
       "3      601.36  300.68  \n",
       "4      902.04  300.68  "
      ]
     },
     "execution_count": 15,
     "metadata": {},
     "output_type": "execute_result"
    }
   ],
   "source": [
    "t_df.head()"
   ]
  },
  {
   "cell_type": "code",
   "execution_count": 16,
   "id": "008287dd-a4c9-4f4d-9ffe-b38358fbc1a5",
   "metadata": {},
   "outputs": [
    {
     "data": {
      "text/plain": [
       "(1000, 7)"
      ]
     },
     "execution_count": 16,
     "metadata": {},
     "output_type": "execute_result"
    }
   ],
   "source": [
    "t_df.shape"
   ]
  },
  {
   "cell_type": "code",
   "execution_count": 17,
   "id": "778204e0-6f82-4cf1-9e4c-d88d28d7ba7e",
   "metadata": {},
   "outputs": [
    {
     "data": {
      "text/plain": [
       "TransactionID      0\n",
       "CustomerID         0\n",
       "ProductID          0\n",
       "TransactionDate    0\n",
       "Quantity           0\n",
       "TotalValue         0\n",
       "Price              0\n",
       "dtype: int64"
      ]
     },
     "execution_count": 17,
     "metadata": {},
     "output_type": "execute_result"
    }
   ],
   "source": [
    "t_df.isnull().sum()"
   ]
  },
  {
   "cell_type": "code",
   "execution_count": 18,
   "id": "84fb38b4-7d62-462d-971d-f0f70fd0f9ea",
   "metadata": {},
   "outputs": [
    {
     "data": {
      "text/plain": [
       "0"
      ]
     },
     "execution_count": 18,
     "metadata": {},
     "output_type": "execute_result"
    }
   ],
   "source": [
    "t_df.duplicated().sum()"
   ]
  },
  {
   "cell_type": "code",
   "execution_count": 19,
   "id": "9fdee558-d1bf-47f8-9ac1-7887ccf0a8e2",
   "metadata": {},
   "outputs": [
    {
     "data": {
      "text/plain": [
       "TransactionID       object\n",
       "CustomerID          object\n",
       "ProductID           object\n",
       "TransactionDate     object\n",
       "Quantity             int64\n",
       "TotalValue         float64\n",
       "Price              float64\n",
       "dtype: object"
      ]
     },
     "execution_count": 19,
     "metadata": {},
     "output_type": "execute_result"
    }
   ],
   "source": [
    "t_df.dtypes"
   ]
  },
  {
   "cell_type": "code",
   "execution_count": 20,
   "id": "ae1d27dd-a495-4eef-93fe-ebdc6654a027",
   "metadata": {},
   "outputs": [],
   "source": [
    "t_df[\"TransactionDate\"]=pd.to_datetime(t_df[\"TransactionDate\"])"
   ]
  },
  {
   "cell_type": "code",
   "execution_count": 21,
   "id": "ed4f56dc-f049-4884-8822-f14e8faa0a1c",
   "metadata": {},
   "outputs": [
    {
     "data": {
      "text/plain": [
       "TransactionID              object\n",
       "CustomerID                 object\n",
       "ProductID                  object\n",
       "TransactionDate    datetime64[ns]\n",
       "Quantity                    int64\n",
       "TotalValue                float64\n",
       "Price                     float64\n",
       "dtype: object"
      ]
     },
     "execution_count": 21,
     "metadata": {},
     "output_type": "execute_result"
    }
   ],
   "source": [
    "t_df.dtypes"
   ]
  },
  {
   "cell_type": "markdown",
   "id": "089698c6-2070-4d2e-a189-b4dbcc0e9746",
   "metadata": {},
   "source": [
    "*datasets are cleaned*"
   ]
  },
  {
   "cell_type": "markdown",
   "id": "aa32b632-25ac-4f2b-983c-b292223325c1",
   "metadata": {},
   "source": [
    "## EXPLORATORY DATA ANALYSIS (EDA)"
   ]
  },
  {
   "cell_type": "markdown",
   "id": "2d175935-5780-4642-8238-8da92358b009",
   "metadata": {},
   "source": [
    "### UNIVARIATE ANALYSIS"
   ]
  },
  {
   "cell_type": "code",
   "execution_count": 22,
   "id": "f418170c-154e-4b5a-8c84-0315e532846e",
   "metadata": {},
   "outputs": [],
   "source": [
    "#adding new column\n",
    "c_df[\"signup_year\"]=c_df[\"SignupDate\"].dt.year"
   ]
  },
  {
   "cell_type": "code",
   "execution_count": 23,
   "id": "e8727c12-26e4-40d0-9aca-35002c3f139f",
   "metadata": {},
   "outputs": [
    {
     "data": {
      "text/plain": [
       "<Axes: xlabel='Region'>"
      ]
     },
     "execution_count": 23,
     "metadata": {},
     "output_type": "execute_result"
    },
    {
     "data": {
      "image/png": "[encoded data removed]",
      "text/plain": [
       "<Figure size 640x480 with 1 Axes>"
      ]
     },
     "metadata": {},
     "output_type": "display_data"
    }
   ],
   "source": [
    "c_df[\"Region\"].value_counts().plot(kind='bar')"
   ]
  },
  {
   "cell_type": "markdown",
   "id": "79bbd4f7-2dd1-49f8-9fd8-58e2fd41aaf3",
   "metadata": {},
   "source": [
    "*highest number of customers in south america and lowest in asia*"
   ]
  },
  {
   "cell_type": "code",
   "execution_count": 24,
   "id": "684a9fae-6065-41b5-8f9f-393aa3ba4aed",
   "metadata": {},
   "outputs": [
    {
     "data": {
      "text/plain": [
       "<Axes: xlabel='signup_year'>"
      ]
     },
     "execution_count": 24,
     "metadata": {},
     "output_type": "execute_result"
    },
    {
     "data": {
      "image/png": "[encoded data removed]",
      "text/plain": [
       "<Figure size 640x480 with 1 Axes>"
      ]
     },
     "metadata": {},
     "output_type": "display_data"
    }
   ],
   "source": [
    "c_df[\"signup_year\"].value_counts().plot(kind=\"bar\")"
   ]
  },
  {
   "cell_type": "markdown",
   "id": "bc6493c4-595a-4d17-a05f-26f148040ec9",
   "metadata": {},
   "source": [
    "*highest number of customers signed up in 2024*"
   ]
  },
  {
   "cell_type": "code",
   "execution_count": 45,
   "id": "16471067-e61c-42e6-a697-3831b5d92046",
   "metadata": {},
   "outputs": [
    {
     "data": {
      "text/plain": [
       "<Axes: ylabel='count'>"
      ]
     },
     "execution_count": 45,
     "metadata": {},
     "output_type": "execute_result"
    },
    {
     "data": {
      "image/png": "[encoded data removed]",
      "text/plain": [
       "<Figure size 640x480 with 1 Axes>"
      ]
     },
     "metadata": {},
     "output_type": "display_data"
    }
   ],
   "source": [
    "p_df[\"Category\"].value_counts().plot(kind=\"pie\")"
   ]
  },
  {
   "cell_type": "markdown",
   "id": "cd7c1314-3852-484a-9988-32e862580fe9",
   "metadata": {},
   "source": [
    "*books and electronics sell more in number and they produce more revenue*"
   ]
  },
  {
   "cell_type": "code",
   "execution_count": 26,
   "id": "a65b3b59-90fa-403e-923d-d60b3171e35c",
   "metadata": {},
   "outputs": [],
   "source": [
    "t_df[\"trans_month\"]=t_df[\"TransactionDate\"].dt.month_name()"
   ]
  },
  {
   "cell_type": "code",
   "execution_count": 27,
   "id": "2d9e34aa-f947-442c-a9b6-3253e45b8d08",
   "metadata": {},
   "outputs": [
    {
     "data": {
      "text/plain": [
       "trans_month\n",
       "January      107\n",
       "September     96\n",
       "July          96\n",
       "August        94\n",
       "May           86\n",
       "April         86\n",
       "December      82\n",
       "March         80\n",
       "February      77\n",
       "October       70\n",
       "June          69\n",
       "November      57\n",
       "Name: count, dtype: int64"
      ]
     },
     "execution_count": 27,
     "metadata": {},
     "output_type": "execute_result"
    }
   ],
   "source": [
    "t_df[\"trans_month\"].value_counts()"
   ]
  },
  {
   "cell_type": "code",
   "execution_count": 28,
   "id": "71511bb5-0aa2-4bcc-8f89-573eae56aa25",
   "metadata": {},
   "outputs": [
    {
     "data": {
      "text/html": [
       "<div>\n",
       "<style scoped>\n",
       "    .dataframe tbody tr th:only-of-type {\n",
       "        vertical-align: middle;\n",
       "    }\n",
       "\n",
       "    .dataframe tbody tr th {\n",
       "        vertical-align: top;\n",
       "    }\n",
       "\n",
       "    .dataframe thead th {\n",
       "        text-align: right;\n",
       "    }\n",
       "</style>\n",
       "<table border=\"1\" class=\"dataframe\">\n",
       "  <thead>\n",
       "    <tr style=\"text-align: right;\">\n",
       "      <th></th>\n",
       "      <th>TransactionID</th>\n",
       "      <th>CustomerID</th>\n",
       "      <th>ProductID</th>\n",
       "      <th>TransactionDate</th>\n",
       "      <th>Quantity</th>\n",
       "      <th>TotalValue</th>\n",
       "      <th>Price</th>\n",
       "      <th>trans_month</th>\n",
       "    </tr>\n",
       "  </thead>\n",
       "  <tbody>\n",
       "    <tr>\n",
       "      <th>0</th>\n",
       "      <td>T00001</td>\n",
       "      <td>C0199</td>\n",
       "      <td>P067</td>\n",
       "      <td>2024-08-25 12:38:23</td>\n",
       "      <td>1</td>\n",
       "      <td>300.68</td>\n",
       "      <td>300.68</td>\n",
       "      <td>August</td>\n",
       "    </tr>\n",
       "    <tr>\n",
       "      <th>1</th>\n",
       "      <td>T00112</td>\n",
       "      <td>C0146</td>\n",
       "      <td>P067</td>\n",
       "      <td>2024-05-27 22:23:54</td>\n",
       "      <td>1</td>\n",
       "      <td>300.68</td>\n",
       "      <td>300.68</td>\n",
       "      <td>May</td>\n",
       "    </tr>\n",
       "    <tr>\n",
       "      <th>2</th>\n",
       "      <td>T00166</td>\n",
       "      <td>C0127</td>\n",
       "      <td>P067</td>\n",
       "      <td>2024-04-25 07:38:55</td>\n",
       "      <td>1</td>\n",
       "      <td>300.68</td>\n",
       "      <td>300.68</td>\n",
       "      <td>April</td>\n",
       "    </tr>\n",
       "    <tr>\n",
       "      <th>3</th>\n",
       "      <td>T00272</td>\n",
       "      <td>C0087</td>\n",
       "      <td>P067</td>\n",
       "      <td>2024-03-26 22:55:37</td>\n",
       "      <td>2</td>\n",
       "      <td>601.36</td>\n",
       "      <td>300.68</td>\n",
       "      <td>March</td>\n",
       "    </tr>\n",
       "    <tr>\n",
       "      <th>4</th>\n",
       "      <td>T00363</td>\n",
       "      <td>C0070</td>\n",
       "      <td>P067</td>\n",
       "      <td>2024-03-21 15:10:10</td>\n",
       "      <td>3</td>\n",
       "      <td>902.04</td>\n",
       "      <td>300.68</td>\n",
       "      <td>March</td>\n",
       "    </tr>\n",
       "    <tr>\n",
       "      <th>...</th>\n",
       "      <td>...</td>\n",
       "      <td>...</td>\n",
       "      <td>...</td>\n",
       "      <td>...</td>\n",
       "      <td>...</td>\n",
       "      <td>...</td>\n",
       "      <td>...</td>\n",
       "      <td>...</td>\n",
       "    </tr>\n",
       "    <tr>\n",
       "      <th>995</th>\n",
       "      <td>T00496</td>\n",
       "      <td>C0118</td>\n",
       "      <td>P037</td>\n",
       "      <td>2024-10-24 08:30:27</td>\n",
       "      <td>1</td>\n",
       "      <td>459.86</td>\n",
       "      <td>459.86</td>\n",
       "      <td>October</td>\n",
       "    </tr>\n",
       "    <tr>\n",
       "      <th>996</th>\n",
       "      <td>T00759</td>\n",
       "      <td>C0059</td>\n",
       "      <td>P037</td>\n",
       "      <td>2024-06-04 02:15:24</td>\n",
       "      <td>3</td>\n",
       "      <td>1379.58</td>\n",
       "      <td>459.86</td>\n",
       "      <td>June</td>\n",
       "    </tr>\n",
       "    <tr>\n",
       "      <th>997</th>\n",
       "      <td>T00922</td>\n",
       "      <td>C0018</td>\n",
       "      <td>P037</td>\n",
       "      <td>2024-04-05 13:05:32</td>\n",
       "      <td>4</td>\n",
       "      <td>1839.44</td>\n",
       "      <td>459.86</td>\n",
       "      <td>April</td>\n",
       "    </tr>\n",
       "    <tr>\n",
       "      <th>998</th>\n",
       "      <td>T00959</td>\n",
       "      <td>C0115</td>\n",
       "      <td>P037</td>\n",
       "      <td>2024-09-29 10:16:02</td>\n",
       "      <td>2</td>\n",
       "      <td>919.72</td>\n",
       "      <td>459.86</td>\n",
       "      <td>September</td>\n",
       "    </tr>\n",
       "    <tr>\n",
       "      <th>999</th>\n",
       "      <td>T00992</td>\n",
       "      <td>C0024</td>\n",
       "      <td>P037</td>\n",
       "      <td>2024-04-21 10:52:24</td>\n",
       "      <td>1</td>\n",
       "      <td>459.86</td>\n",
       "      <td>459.86</td>\n",
       "      <td>April</td>\n",
       "    </tr>\n",
       "  </tbody>\n",
       "</table>\n",
       "<p>1000 rows × 8 columns</p>\n",
       "</div>"
      ],
      "text/plain": [
       "    TransactionID CustomerID ProductID     TransactionDate  Quantity  \\\n",
       "0          T00001      C0199      P067 2024-08-25 12:38:23         1   \n",
       "1          T00112      C0146      P067 2024-05-27 22:23:54         1   \n",
       "2          T00166      C0127      P067 2024-04-25 07:38:55         1   \n",
       "3          T00272      C0087      P067 2024-03-26 22:55:37         2   \n",
       "4          T00363      C0070      P067 2024-03-21 15:10:10         3   \n",
       "..            ...        ...       ...                 ...       ...   \n",
       "995        T00496      C0118      P037 2024-10-24 08:30:27         1   \n",
       "996        T00759      C0059      P037 2024-06-04 02:15:24         3   \n",
       "997        T00922      C0018      P037 2024-04-05 13:05:32         4   \n",
       "998        T00959      C0115      P037 2024-09-29 10:16:02         2   \n",
       "999        T00992      C0024      P037 2024-04-21 10:52:24         1   \n",
       "\n",
       "     TotalValue   Price trans_month  \n",
       "0        300.68  300.68      August  \n",
       "1        300.68  300.68         May  \n",
       "2        300.68  300.68       April  \n",
       "3        601.36  300.68       March  \n",
       "4        902.04  300.68       March  \n",
       "..          ...     ...         ...  \n",
       "995      459.86  459.86     October  \n",
       "996     1379.58  459.86        June  \n",
       "997     1839.44  459.86       April  \n",
       "998      919.72  459.86   September  \n",
       "999      459.86  459.86       April  \n",
       "\n",
       "[1000 rows x 8 columns]"
      ]
     },
     "execution_count": 28,
     "metadata": {},
     "output_type": "execute_result"
    }
   ],
   "source": [
    "t_df"
   ]
  },
  {
   "cell_type": "code",
   "execution_count": 29,
   "id": "e8772965-f60e-4544-9ada-ef12869450d1",
   "metadata": {},
   "outputs": [
    {
     "data": {
      "text/plain": [
       "<Axes: xlabel='trans_month'>"
      ]
     },
     "execution_count": 29,
     "metadata": {},
     "output_type": "execute_result"
    },
    {
     "data": {
      "image/png": "[encoded data removed]",
      "text/plain": [
       "<Figure size 640x480 with 1 Axes>"
      ]
     },
     "metadata": {},
     "output_type": "display_data"
    }
   ],
   "source": [
    "t_df[\"trans_month\"].value_counts().plot(kind=\"bar\")"
   ]
  },
  {
   "cell_type": "markdown",
   "id": "36cebbc0-c426-4adc-90be-80702a40aa5c",
   "metadata": {},
   "source": [
    "*highest sales in january*"
   ]
  },
  {
   "cell_type": "markdown",
   "id": "2a715f30-9acb-49a1-b818-f9d0a39004f9",
   "metadata": {},
   "source": [
    "### BIVARIATE ANALYSIS"
   ]
  },
  {
   "cell_type": "code",
   "execution_count": 30,
   "id": "14b1b639-927c-4f84-a06b-4a084983984a",
   "metadata": {},
   "outputs": [
    {
     "data": {
      "text/plain": [
       "<Axes: xlabel='Region', ylabel='Count'>"
      ]
     },
     "execution_count": 30,
     "metadata": {},
     "output_type": "execute_result"
    },
    {
     "data": {
      "image/png": "[encoded data removed]",
      "text/plain": [
       "<Figure size 640x480 with 1 Axes>"
      ]
     },
     "metadata": {},
     "output_type": "display_data"
    }
   ],
   "source": [
    "sns.histplot(x=\"Region\",hue=\"signup_year\",data=c_df,multiple=\"dodge\",stat=\"count\",shrink=.8)"
   ]
  },
  {
   "cell_type": "markdown",
   "id": "465d0579-1fae-41e6-b113-c2a210d11681",
   "metadata": {},
   "source": [
    "*there is a boom in customers nuber in North America in 2023*"
   ]
  },
  {
   "cell_type": "code",
   "execution_count": 31,
   "id": "5f87b9b1-c44b-4250-927e-a1dfe2377fd5",
   "metadata": {},
   "outputs": [
    {
     "data": {
      "text/plain": [
       "<Axes: xlabel='Category', ylabel='Price'>"
      ]
     },
     "execution_count": 31,
     "metadata": {},
     "output_type": "execute_result"
    },
    {
     "data": {
      "image/png": "[encoded data removed]",
      "text/plain": [
       "<Figure size 640x480 with 1 Axes>"
      ]
     },
     "metadata": {},
     "output_type": "display_data"
    }
   ],
   "source": [
    "sns.barplot(x=\"Category\",y=\"Price\",data=p_df,estimator=\"average\")"
   ]
  },
  {
   "cell_type": "markdown",
   "id": "1aabac9d-a8fe-4583-a2ae-a9ba9b894617",
   "metadata": {},
   "source": [
    "*average price of books and electronics generate more *"
   ]
  },
  {
   "cell_type": "code",
   "execution_count": 32,
   "id": "d36f4281-5b42-4f4a-9637-7c3fda2c626b",
   "metadata": {},
   "outputs": [],
   "source": [
    "months=['January','February','March','April','May','June', 'July','August','September', 'October','November','December']"
   ]
  },
  {
   "cell_type": "code",
   "execution_count": 33,
   "id": "bf7b61ef-e7b6-449f-9348-eee492d9df6b",
   "metadata": {},
   "outputs": [
    {
     "data": {
      "text/plain": [
       "<Axes: xlabel='trans_month', ylabel='TotalValue'>"
      ]
     },
     "execution_count": 33,
     "metadata": {},
     "output_type": "execute_result"
    },
    {
     "data": {
      "image/png": "[encoded data removed]",
      "text/plain": [
       "<Figure size 640x480 with 1 Axes>"
      ]
     },
     "metadata": {},
     "output_type": "display_data"
    }
   ],
   "source": [
    "plt.xticks(rotation=90)\n",
    "sns.barplot(x=\"trans_month\",y=\"TotalValue\",data=t_df,estimator=\"average\",order=months)"
   ]
  },
  {
   "cell_type": "markdown",
   "id": "afdea541-769f-4286-bc2c-2157ce85c668",
   "metadata": {},
   "source": [
    "*highest average sales in may,july and september and december*"
   ]
  },
  {
   "cell_type": "code",
   "execution_count": 34,
   "id": "aee311f9-b906-4e1c-842a-b1583c57c878",
   "metadata": {},
   "outputs": [],
   "source": [
    "# merge 2 datasets\n",
    "df1 = t_df.merge(c_df[['CustomerID','Region','signup_year']], on ='CustomerID')"
   ]
  },
  {
   "cell_type": "code",
   "execution_count": 35,
   "id": "d0b15473-79d7-4409-8bff-d597dbecd0d8",
   "metadata": {},
   "outputs": [
    {
     "data": {
      "text/html": [
       "<div>\n",
       "<style scoped>\n",
       "    .dataframe tbody tr th:only-of-type {\n",
       "        vertical-align: middle;\n",
       "    }\n",
       "\n",
       "    .dataframe tbody tr th {\n",
       "        vertical-align: top;\n",
       "    }\n",
       "\n",
       "    .dataframe thead th {\n",
       "        text-align: right;\n",
       "    }\n",
       "</style>\n",
       "<table border=\"1\" class=\"dataframe\">\n",
       "  <thead>\n",
       "    <tr style=\"text-align: right;\">\n",
       "      <th></th>\n",
       "      <th>TransactionID</th>\n",
       "      <th>CustomerID</th>\n",
       "      <th>ProductID</th>\n",
       "      <th>TransactionDate</th>\n",
       "      <th>Quantity</th>\n",
       "      <th>TotalValue</th>\n",
       "      <th>Price</th>\n",
       "      <th>trans_month</th>\n",
       "      <th>Region</th>\n",
       "      <th>signup_year</th>\n",
       "    </tr>\n",
       "  </thead>\n",
       "  <tbody>\n",
       "    <tr>\n",
       "      <th>0</th>\n",
       "      <td>T00001</td>\n",
       "      <td>C0199</td>\n",
       "      <td>P067</td>\n",
       "      <td>2024-08-25 12:38:23</td>\n",
       "      <td>1</td>\n",
       "      <td>300.68</td>\n",
       "      <td>300.68</td>\n",
       "      <td>August</td>\n",
       "      <td>Europe</td>\n",
       "      <td>2022</td>\n",
       "    </tr>\n",
       "    <tr>\n",
       "      <th>1</th>\n",
       "      <td>T00761</td>\n",
       "      <td>C0199</td>\n",
       "      <td>P022</td>\n",
       "      <td>2024-10-01 05:57:09</td>\n",
       "      <td>4</td>\n",
       "      <td>550.16</td>\n",
       "      <td>137.54</td>\n",
       "      <td>October</td>\n",
       "      <td>Europe</td>\n",
       "      <td>2022</td>\n",
       "    </tr>\n",
       "    <tr>\n",
       "      <th>2</th>\n",
       "      <td>T00626</td>\n",
       "      <td>C0199</td>\n",
       "      <td>P079</td>\n",
       "      <td>2024-08-17 12:06:08</td>\n",
       "      <td>2</td>\n",
       "      <td>834.74</td>\n",
       "      <td>417.37</td>\n",
       "      <td>August</td>\n",
       "      <td>Europe</td>\n",
       "      <td>2022</td>\n",
       "    </tr>\n",
       "    <tr>\n",
       "      <th>3</th>\n",
       "      <td>T00963</td>\n",
       "      <td>C0199</td>\n",
       "      <td>P008</td>\n",
       "      <td>2024-10-26 00:01:58</td>\n",
       "      <td>2</td>\n",
       "      <td>293.70</td>\n",
       "      <td>146.85</td>\n",
       "      <td>October</td>\n",
       "      <td>Europe</td>\n",
       "      <td>2022</td>\n",
       "    </tr>\n",
       "    <tr>\n",
       "      <th>4</th>\n",
       "      <td>T00112</td>\n",
       "      <td>C0146</td>\n",
       "      <td>P067</td>\n",
       "      <td>2024-05-27 22:23:54</td>\n",
       "      <td>1</td>\n",
       "      <td>300.68</td>\n",
       "      <td>300.68</td>\n",
       "      <td>May</td>\n",
       "      <td>Asia</td>\n",
       "      <td>2024</td>\n",
       "    </tr>\n",
       "    <tr>\n",
       "      <th>...</th>\n",
       "      <td>...</td>\n",
       "      <td>...</td>\n",
       "      <td>...</td>\n",
       "      <td>...</td>\n",
       "      <td>...</td>\n",
       "      <td>...</td>\n",
       "      <td>...</td>\n",
       "      <td>...</td>\n",
       "      <td>...</td>\n",
       "      <td>...</td>\n",
       "    </tr>\n",
       "    <tr>\n",
       "      <th>995</th>\n",
       "      <td>T00774</td>\n",
       "      <td>C0095</td>\n",
       "      <td>P056</td>\n",
       "      <td>2024-01-07 14:19:49</td>\n",
       "      <td>2</td>\n",
       "      <td>32.16</td>\n",
       "      <td>16.08</td>\n",
       "      <td>January</td>\n",
       "      <td>South America</td>\n",
       "      <td>2023</td>\n",
       "    </tr>\n",
       "    <tr>\n",
       "      <th>996</th>\n",
       "      <td>T00823</td>\n",
       "      <td>C0095</td>\n",
       "      <td>P079</td>\n",
       "      <td>2024-09-30 10:45:06</td>\n",
       "      <td>3</td>\n",
       "      <td>1252.11</td>\n",
       "      <td>417.37</td>\n",
       "      <td>September</td>\n",
       "      <td>South America</td>\n",
       "      <td>2023</td>\n",
       "    </tr>\n",
       "    <tr>\n",
       "      <th>997</th>\n",
       "      <td>T00369</td>\n",
       "      <td>C0151</td>\n",
       "      <td>P082</td>\n",
       "      <td>2024-12-24 11:40:24</td>\n",
       "      <td>4</td>\n",
       "      <td>223.96</td>\n",
       "      <td>55.99</td>\n",
       "      <td>December</td>\n",
       "      <td>South America</td>\n",
       "      <td>2024</td>\n",
       "    </tr>\n",
       "    <tr>\n",
       "      <th>998</th>\n",
       "      <td>T00809</td>\n",
       "      <td>C0078</td>\n",
       "      <td>P075</td>\n",
       "      <td>2024-12-09 11:44:44</td>\n",
       "      <td>2</td>\n",
       "      <td>995.52</td>\n",
       "      <td>497.76</td>\n",
       "      <td>December</td>\n",
       "      <td>Asia</td>\n",
       "      <td>2024</td>\n",
       "    </tr>\n",
       "    <tr>\n",
       "      <th>999</th>\n",
       "      <td>T00527</td>\n",
       "      <td>C0110</td>\n",
       "      <td>P028</td>\n",
       "      <td>2024-01-02 19:11:34</td>\n",
       "      <td>4</td>\n",
       "      <td>942.32</td>\n",
       "      <td>235.58</td>\n",
       "      <td>January</td>\n",
       "      <td>Asia</td>\n",
       "      <td>2024</td>\n",
       "    </tr>\n",
       "  </tbody>\n",
       "</table>\n",
       "<p>1000 rows × 10 columns</p>\n",
       "</div>"
      ],
      "text/plain": [
       "    TransactionID CustomerID ProductID     TransactionDate  Quantity  \\\n",
       "0          T00001      C0199      P067 2024-08-25 12:38:23         1   \n",
       "1          T00761      C0199      P022 2024-10-01 05:57:09         4   \n",
       "2          T00626      C0199      P079 2024-08-17 12:06:08         2   \n",
       "3          T00963      C0199      P008 2024-10-26 00:01:58         2   \n",
       "4          T00112      C0146      P067 2024-05-27 22:23:54         1   \n",
       "..            ...        ...       ...                 ...       ...   \n",
       "995        T00774      C0095      P056 2024-01-07 14:19:49         2   \n",
       "996        T00823      C0095      P079 2024-09-30 10:45:06         3   \n",
       "997        T00369      C0151      P082 2024-12-24 11:40:24         4   \n",
       "998        T00809      C0078      P075 2024-12-09 11:44:44         2   \n",
       "999        T00527      C0110      P028 2024-01-02 19:11:34         4   \n",
       "\n",
       "     TotalValue   Price trans_month         Region  signup_year  \n",
       "0        300.68  300.68      August         Europe         2022  \n",
       "1        550.16  137.54     October         Europe         2022  \n",
       "2        834.74  417.37      August         Europe         2022  \n",
       "3        293.70  146.85     October         Europe         2022  \n",
       "4        300.68  300.68         May           Asia         2024  \n",
       "..          ...     ...         ...            ...          ...  \n",
       "995       32.16   16.08     January  South America         2023  \n",
       "996     1252.11  417.37   September  South America         2023  \n",
       "997      223.96   55.99    December  South America         2024  \n",
       "998      995.52  497.76    December           Asia         2024  \n",
       "999      942.32  235.58     January           Asia         2024  \n",
       "\n",
       "[1000 rows x 10 columns]"
      ]
     },
     "execution_count": 35,
     "metadata": {},
     "output_type": "execute_result"
    }
   ],
   "source": [
    "df1"
   ]
  },
  {
   "cell_type": "code",
   "execution_count": 36,
   "id": "360a415b-78db-42d2-88bd-58dee3599658",
   "metadata": {},
   "outputs": [],
   "source": [
    "merge_df=df1.merge(p_df[[\"ProductID\",\"Category\"]],on=\"ProductID\")"
   ]
  },
  {
   "cell_type": "code",
   "execution_count": 37,
   "id": "4c4d47fc-6783-4ebf-87ac-870e08b5800a",
   "metadata": {},
   "outputs": [
    {
     "data": {
      "text/html": [
       "<div>\n",
       "<style scoped>\n",
       "    .dataframe tbody tr th:only-of-type {\n",
       "        vertical-align: middle;\n",
       "    }\n",
       "\n",
       "    .dataframe tbody tr th {\n",
       "        vertical-align: top;\n",
       "    }\n",
       "\n",
       "    .dataframe thead th {\n",
       "        text-align: right;\n",
       "    }\n",
       "</style>\n",
       "<table border=\"1\" class=\"dataframe\">\n",
       "  <thead>\n",
       "    <tr style=\"text-align: right;\">\n",
       "      <th></th>\n",
       "      <th>TransactionID</th>\n",
       "      <th>CustomerID</th>\n",
       "      <th>ProductID</th>\n",
       "      <th>TransactionDate</th>\n",
       "      <th>Quantity</th>\n",
       "      <th>TotalValue</th>\n",
       "      <th>Price</th>\n",
       "      <th>trans_month</th>\n",
       "      <th>Region</th>\n",
       "      <th>signup_year</th>\n",
       "      <th>Category</th>\n",
       "    </tr>\n",
       "  </thead>\n",
       "  <tbody>\n",
       "    <tr>\n",
       "      <th>0</th>\n",
       "      <td>T00001</td>\n",
       "      <td>C0199</td>\n",
       "      <td>P067</td>\n",
       "      <td>2024-08-25 12:38:23</td>\n",
       "      <td>1</td>\n",
       "      <td>300.68</td>\n",
       "      <td>300.68</td>\n",
       "      <td>August</td>\n",
       "      <td>Europe</td>\n",
       "      <td>2022</td>\n",
       "      <td>Electronics</td>\n",
       "    </tr>\n",
       "    <tr>\n",
       "      <th>1</th>\n",
       "      <td>T00112</td>\n",
       "      <td>C0146</td>\n",
       "      <td>P067</td>\n",
       "      <td>2024-05-27 22:23:54</td>\n",
       "      <td>1</td>\n",
       "      <td>300.68</td>\n",
       "      <td>300.68</td>\n",
       "      <td>May</td>\n",
       "      <td>Asia</td>\n",
       "      <td>2024</td>\n",
       "      <td>Electronics</td>\n",
       "    </tr>\n",
       "    <tr>\n",
       "      <th>2</th>\n",
       "      <td>T00166</td>\n",
       "      <td>C0127</td>\n",
       "      <td>P067</td>\n",
       "      <td>2024-04-25 07:38:55</td>\n",
       "      <td>1</td>\n",
       "      <td>300.68</td>\n",
       "      <td>300.68</td>\n",
       "      <td>April</td>\n",
       "      <td>Europe</td>\n",
       "      <td>2024</td>\n",
       "      <td>Electronics</td>\n",
       "    </tr>\n",
       "    <tr>\n",
       "      <th>3</th>\n",
       "      <td>T00272</td>\n",
       "      <td>C0087</td>\n",
       "      <td>P067</td>\n",
       "      <td>2024-03-26 22:55:37</td>\n",
       "      <td>2</td>\n",
       "      <td>601.36</td>\n",
       "      <td>300.68</td>\n",
       "      <td>March</td>\n",
       "      <td>South America</td>\n",
       "      <td>2024</td>\n",
       "      <td>Electronics</td>\n",
       "    </tr>\n",
       "    <tr>\n",
       "      <th>4</th>\n",
       "      <td>T00363</td>\n",
       "      <td>C0070</td>\n",
       "      <td>P067</td>\n",
       "      <td>2024-03-21 15:10:10</td>\n",
       "      <td>3</td>\n",
       "      <td>902.04</td>\n",
       "      <td>300.68</td>\n",
       "      <td>March</td>\n",
       "      <td>Europe</td>\n",
       "      <td>2022</td>\n",
       "      <td>Electronics</td>\n",
       "    </tr>\n",
       "    <tr>\n",
       "      <th>...</th>\n",
       "      <td>...</td>\n",
       "      <td>...</td>\n",
       "      <td>...</td>\n",
       "      <td>...</td>\n",
       "      <td>...</td>\n",
       "      <td>...</td>\n",
       "      <td>...</td>\n",
       "      <td>...</td>\n",
       "      <td>...</td>\n",
       "      <td>...</td>\n",
       "      <td>...</td>\n",
       "    </tr>\n",
       "    <tr>\n",
       "      <th>995</th>\n",
       "      <td>T00630</td>\n",
       "      <td>C0031</td>\n",
       "      <td>P093</td>\n",
       "      <td>2024-10-08 23:58:14</td>\n",
       "      <td>2</td>\n",
       "      <td>609.88</td>\n",
       "      <td>304.94</td>\n",
       "      <td>October</td>\n",
       "      <td>South America</td>\n",
       "      <td>2024</td>\n",
       "      <td>Home Decor</td>\n",
       "    </tr>\n",
       "    <tr>\n",
       "      <th>996</th>\n",
       "      <td>T00672</td>\n",
       "      <td>C0165</td>\n",
       "      <td>P044</td>\n",
       "      <td>2024-07-28 00:09:49</td>\n",
       "      <td>4</td>\n",
       "      <td>75.28</td>\n",
       "      <td>18.82</td>\n",
       "      <td>July</td>\n",
       "      <td>South America</td>\n",
       "      <td>2022</td>\n",
       "      <td>Clothing</td>\n",
       "    </tr>\n",
       "    <tr>\n",
       "      <th>997</th>\n",
       "      <td>T00711</td>\n",
       "      <td>C0165</td>\n",
       "      <td>P044</td>\n",
       "      <td>2024-06-11 15:51:14</td>\n",
       "      <td>4</td>\n",
       "      <td>75.28</td>\n",
       "      <td>18.82</td>\n",
       "      <td>June</td>\n",
       "      <td>South America</td>\n",
       "      <td>2022</td>\n",
       "      <td>Clothing</td>\n",
       "    </tr>\n",
       "    <tr>\n",
       "      <th>998</th>\n",
       "      <td>T00878</td>\n",
       "      <td>C0165</td>\n",
       "      <td>P044</td>\n",
       "      <td>2024-09-24 21:15:21</td>\n",
       "      <td>3</td>\n",
       "      <td>56.46</td>\n",
       "      <td>18.82</td>\n",
       "      <td>September</td>\n",
       "      <td>South America</td>\n",
       "      <td>2022</td>\n",
       "      <td>Clothing</td>\n",
       "    </tr>\n",
       "    <tr>\n",
       "      <th>999</th>\n",
       "      <td>T00157</td>\n",
       "      <td>C0169</td>\n",
       "      <td>P044</td>\n",
       "      <td>2024-11-09 09:07:36</td>\n",
       "      <td>2</td>\n",
       "      <td>37.64</td>\n",
       "      <td>18.82</td>\n",
       "      <td>November</td>\n",
       "      <td>South America</td>\n",
       "      <td>2023</td>\n",
       "      <td>Clothing</td>\n",
       "    </tr>\n",
       "  </tbody>\n",
       "</table>\n",
       "<p>1000 rows × 11 columns</p>\n",
       "</div>"
      ],
      "text/plain": [
       "    TransactionID CustomerID ProductID     TransactionDate  Quantity  \\\n",
       "0          T00001      C0199      P067 2024-08-25 12:38:23         1   \n",
       "1          T00112      C0146      P067 2024-05-27 22:23:54         1   \n",
       "2          T00166      C0127      P067 2024-04-25 07:38:55         1   \n",
       "3          T00272      C0087      P067 2024-03-26 22:55:37         2   \n",
       "4          T00363      C0070      P067 2024-03-21 15:10:10         3   \n",
       "..            ...        ...       ...                 ...       ...   \n",
       "995        T00630      C0031      P093 2024-10-08 23:58:14         2   \n",
       "996        T00672      C0165      P044 2024-07-28 00:09:49         4   \n",
       "997        T00711      C0165      P044 2024-06-11 15:51:14         4   \n",
       "998        T00878      C0165      P044 2024-09-24 21:15:21         3   \n",
       "999        T00157      C0169      P044 2024-11-09 09:07:36         2   \n",
       "\n",
       "     TotalValue   Price trans_month         Region  signup_year     Category  \n",
       "0        300.68  300.68      August         Europe         2022  Electronics  \n",
       "1        300.68  300.68         May           Asia         2024  Electronics  \n",
       "2        300.68  300.68       April         Europe         2024  Electronics  \n",
       "3        601.36  300.68       March  South America         2024  Electronics  \n",
       "4        902.04  300.68       March         Europe         2022  Electronics  \n",
       "..          ...     ...         ...            ...          ...          ...  \n",
       "995      609.88  304.94     October  South America         2024   Home Decor  \n",
       "996       75.28   18.82        July  South America         2022     Clothing  \n",
       "997       75.28   18.82        June  South America         2022     Clothing  \n",
       "998       56.46   18.82   September  South America         2022     Clothing  \n",
       "999       37.64   18.82    November  South America         2023     Clothing  \n",
       "\n",
       "[1000 rows x 11 columns]"
      ]
     },
     "execution_count": 37,
     "metadata": {},
     "output_type": "execute_result"
    }
   ],
   "source": [
    "pd.set_option(\"display.max_columns\",None)\n",
    "merge_df"
   ]
  },
  {
   "cell_type": "code",
   "execution_count": 38,
   "id": "7f3f74df-2b3a-4a18-acdc-41b82034cba5",
   "metadata": {},
   "outputs": [
    {
     "data": {
      "text/plain": [
       "<Axes: xlabel='Category', ylabel='TotalValue'>"
      ]
     },
     "execution_count": 38,
     "metadata": {},
     "output_type": "execute_result"
    },
    {
     "data": {
      "image/png": "[encoded data removed]",
      "text/plain": [
       "<Figure size 640x480 with 1 Axes>"
      ]
     },
     "metadata": {},
     "output_type": "display_data"
    }
   ],
   "source": [
    "sns.barplot(x=\"Category\",y=\"TotalValue\",data=merge_df,estimator=\"average\")"
   ]
  },
  {
   "cell_type": "markdown",
   "id": "dcf3536a-b6b8-4658-ad93-58db9c314138",
   "metadata": {},
   "source": [
    "*highest revenue from clothing,book and elecronics*"
   ]
  },
  {
   "cell_type": "code",
   "execution_count": 39,
   "id": "fef80ee3-2936-48be-bc4f-afa7a15b3370",
   "metadata": {},
   "outputs": [
    {
     "data": {
      "text/plain": [
       "<Axes: xlabel='trans_month', ylabel='Count'>"
      ]
     },
     "execution_count": 39,
     "metadata": {},
     "output_type": "execute_result"
    },
    {
     "data": {
      "image/png": "[encoded data removed]",
      "text/plain": [
       "<Figure size 1500x500 with 1 Axes>"
      ]
     },
     "metadata": {},
     "output_type": "display_data"
    }
   ],
   "source": [
    "plt.figure(figsize=(15,5))\n",
    "sns.histplot(x=\"trans_month\",hue=\"Category\",data=merge_df,multiple=\"dodge\",stat=\"count\",shrink=.8)"
   ]
  },
  {
   "cell_type": "code",
   "execution_count": 40,
   "id": "14bf2ce0-8ef1-4d90-80e3-5328ea6537f9",
   "metadata": {},
   "outputs": [
    {
     "data": {
      "text/plain": [
       "<Axes: xlabel='Region', ylabel='Density'>"
      ]
     },
     "execution_count": 40,
     "metadata": {},
     "output_type": "execute_result"
    },
    {
     "data": {
      "image/png": "[encoded data removed]",
      "text/plain": [
       "<Figure size 1500x500 with 1 Axes>"
      ]
     },
     "metadata": {},
     "output_type": "display_data"
    }
   ],
   "source": [
    "plt.figure(figsize=(15,5))\n",
    "sns.histplot(x=\"Region\",hue=\"Category\",data=merge_df,multiple=\"dodge\",stat=\"density\",shrink=.8)"
   ]
  },
  {
   "cell_type": "code",
   "execution_count": 41,
   "id": "fec1ebf2-cebb-44aa-b456-f3549d896435",
   "metadata": {},
   "outputs": [
    {
     "data": {
      "text/plain": [
       "<Axes: xlabel='Region', ylabel='TotalValue'>"
      ]
     },
     "execution_count": 41,
     "metadata": {},
     "output_type": "execute_result"
    },
    {
     "data": {
      "image/png": "[encoded data removed]",
      "text/plain": [
       "<Figure size 640x480 with 1 Axes>"
      ]
     },
     "metadata": {},
     "output_type": "display_data"
    }
   ],
   "source": [
    "sns.barplot(x=\"Region\",y=\"TotalValue\",data=merge_df,estimator=\"average\")"
   ]
  },
  {
   "cell_type": "markdown",
   "id": "44e83efe-88f1-4d5f-b285-9e84185b37ff",
   "metadata": {},
   "source": [
    "*Average revenue from north america is low*"
   ]
  },
  {
   "cell_type": "code",
   "execution_count": 42,
   "id": "db889304-f9fe-4ca4-a1e2-59244806eb50",
   "metadata": {},
   "outputs": [
    {
     "data": {
      "text/html": [
       "<div>\n",
       "<style scoped>\n",
       "    .dataframe tbody tr th:only-of-type {\n",
       "        vertical-align: middle;\n",
       "    }\n",
       "\n",
       "    .dataframe tbody tr th {\n",
       "        vertical-align: top;\n",
       "    }\n",
       "\n",
       "    .dataframe thead th {\n",
       "        text-align: right;\n",
       "    }\n",
       "</style>\n",
       "<table border=\"1\" class=\"dataframe\">\n",
       "  <thead>\n",
       "    <tr style=\"text-align: right;\">\n",
       "      <th></th>\n",
       "      <th>TransactionID</th>\n",
       "      <th>CustomerID</th>\n",
       "      <th>ProductID</th>\n",
       "      <th>TransactionDate</th>\n",
       "      <th>Quantity</th>\n",
       "      <th>TotalValue</th>\n",
       "      <th>Price</th>\n",
       "      <th>trans_month</th>\n",
       "      <th>Region</th>\n",
       "      <th>signup_year</th>\n",
       "      <th>Category</th>\n",
       "    </tr>\n",
       "  </thead>\n",
       "  <tbody>\n",
       "    <tr>\n",
       "      <th>0</th>\n",
       "      <td>T00001</td>\n",
       "      <td>C0199</td>\n",
       "      <td>P067</td>\n",
       "      <td>2024-08-25 12:38:23</td>\n",
       "      <td>1</td>\n",
       "      <td>300.68</td>\n",
       "      <td>300.68</td>\n",
       "      <td>August</td>\n",
       "      <td>Europe</td>\n",
       "      <td>2022</td>\n",
       "      <td>Electronics</td>\n",
       "    </tr>\n",
       "    <tr>\n",
       "      <th>1</th>\n",
       "      <td>T00112</td>\n",
       "      <td>C0146</td>\n",
       "      <td>P067</td>\n",
       "      <td>2024-05-27 22:23:54</td>\n",
       "      <td>1</td>\n",
       "      <td>300.68</td>\n",
       "      <td>300.68</td>\n",
       "      <td>May</td>\n",
       "      <td>Asia</td>\n",
       "      <td>2024</td>\n",
       "      <td>Electronics</td>\n",
       "    </tr>\n",
       "    <tr>\n",
       "      <th>2</th>\n",
       "      <td>T00166</td>\n",
       "      <td>C0127</td>\n",
       "      <td>P067</td>\n",
       "      <td>2024-04-25 07:38:55</td>\n",
       "      <td>1</td>\n",
       "      <td>300.68</td>\n",
       "      <td>300.68</td>\n",
       "      <td>April</td>\n",
       "      <td>Europe</td>\n",
       "      <td>2024</td>\n",
       "      <td>Electronics</td>\n",
       "    </tr>\n",
       "    <tr>\n",
       "      <th>3</th>\n",
       "      <td>T00272</td>\n",
       "      <td>C0087</td>\n",
       "      <td>P067</td>\n",
       "      <td>2024-03-26 22:55:37</td>\n",
       "      <td>2</td>\n",
       "      <td>601.36</td>\n",
       "      <td>300.68</td>\n",
       "      <td>March</td>\n",
       "      <td>South America</td>\n",
       "      <td>2024</td>\n",
       "      <td>Electronics</td>\n",
       "    </tr>\n",
       "    <tr>\n",
       "      <th>4</th>\n",
       "      <td>T00363</td>\n",
       "      <td>C0070</td>\n",
       "      <td>P067</td>\n",
       "      <td>2024-03-21 15:10:10</td>\n",
       "      <td>3</td>\n",
       "      <td>902.04</td>\n",
       "      <td>300.68</td>\n",
       "      <td>March</td>\n",
       "      <td>Europe</td>\n",
       "      <td>2022</td>\n",
       "      <td>Electronics</td>\n",
       "    </tr>\n",
       "    <tr>\n",
       "      <th>...</th>\n",
       "      <td>...</td>\n",
       "      <td>...</td>\n",
       "      <td>...</td>\n",
       "      <td>...</td>\n",
       "      <td>...</td>\n",
       "      <td>...</td>\n",
       "      <td>...</td>\n",
       "      <td>...</td>\n",
       "      <td>...</td>\n",
       "      <td>...</td>\n",
       "      <td>...</td>\n",
       "    </tr>\n",
       "    <tr>\n",
       "      <th>995</th>\n",
       "      <td>T00630</td>\n",
       "      <td>C0031</td>\n",
       "      <td>P093</td>\n",
       "      <td>2024-10-08 23:58:14</td>\n",
       "      <td>2</td>\n",
       "      <td>609.88</td>\n",
       "      <td>304.94</td>\n",
       "      <td>October</td>\n",
       "      <td>South America</td>\n",
       "      <td>2024</td>\n",
       "      <td>Home Decor</td>\n",
       "    </tr>\n",
       "    <tr>\n",
       "      <th>996</th>\n",
       "      <td>T00672</td>\n",
       "      <td>C0165</td>\n",
       "      <td>P044</td>\n",
       "      <td>2024-07-28 00:09:49</td>\n",
       "      <td>4</td>\n",
       "      <td>75.28</td>\n",
       "      <td>18.82</td>\n",
       "      <td>July</td>\n",
       "      <td>South America</td>\n",
       "      <td>2022</td>\n",
       "      <td>Clothing</td>\n",
       "    </tr>\n",
       "    <tr>\n",
       "      <th>997</th>\n",
       "      <td>T00711</td>\n",
       "      <td>C0165</td>\n",
       "      <td>P044</td>\n",
       "      <td>2024-06-11 15:51:14</td>\n",
       "      <td>4</td>\n",
       "      <td>75.28</td>\n",
       "      <td>18.82</td>\n",
       "      <td>June</td>\n",
       "      <td>South America</td>\n",
       "      <td>2022</td>\n",
       "      <td>Clothing</td>\n",
       "    </tr>\n",
       "    <tr>\n",
       "      <th>998</th>\n",
       "      <td>T00878</td>\n",
       "      <td>C0165</td>\n",
       "      <td>P044</td>\n",
       "      <td>2024-09-24 21:15:21</td>\n",
       "      <td>3</td>\n",
       "      <td>56.46</td>\n",
       "      <td>18.82</td>\n",
       "      <td>September</td>\n",
       "      <td>South America</td>\n",
       "      <td>2022</td>\n",
       "      <td>Clothing</td>\n",
       "    </tr>\n",
       "    <tr>\n",
       "      <th>999</th>\n",
       "      <td>T00157</td>\n",
       "      <td>C0169</td>\n",
       "      <td>P044</td>\n",
       "      <td>2024-11-09 09:07:36</td>\n",
       "      <td>2</td>\n",
       "      <td>37.64</td>\n",
       "      <td>18.82</td>\n",
       "      <td>November</td>\n",
       "      <td>South America</td>\n",
       "      <td>2023</td>\n",
       "      <td>Clothing</td>\n",
       "    </tr>\n",
       "  </tbody>\n",
       "</table>\n",
       "<p>1000 rows × 11 columns</p>\n",
       "</div>"
      ],
      "text/plain": [
       "    TransactionID CustomerID ProductID     TransactionDate  Quantity  \\\n",
       "0          T00001      C0199      P067 2024-08-25 12:38:23         1   \n",
       "1          T00112      C0146      P067 2024-05-27 22:23:54         1   \n",
       "2          T00166      C0127      P067 2024-04-25 07:38:55         1   \n",
       "3          T00272      C0087      P067 2024-03-26 22:55:37         2   \n",
       "4          T00363      C0070      P067 2024-03-21 15:10:10         3   \n",
       "..            ...        ...       ...                 ...       ...   \n",
       "995        T00630      C0031      P093 2024-10-08 23:58:14         2   \n",
       "996        T00672      C0165      P044 2024-07-28 00:09:49         4   \n",
       "997        T00711      C0165      P044 2024-06-11 15:51:14         4   \n",
       "998        T00878      C0165      P044 2024-09-24 21:15:21         3   \n",
       "999        T00157      C0169      P044 2024-11-09 09:07:36         2   \n",
       "\n",
       "     TotalValue   Price trans_month         Region  signup_year     Category  \n",
       "0        300.68  300.68      August         Europe         2022  Electronics  \n",
       "1        300.68  300.68         May           Asia         2024  Electronics  \n",
       "2        300.68  300.68       April         Europe         2024  Electronics  \n",
       "3        601.36  300.68       March  South America         2024  Electronics  \n",
       "4        902.04  300.68       March         Europe         2022  Electronics  \n",
       "..          ...     ...         ...            ...          ...          ...  \n",
       "995      609.88  304.94     October  South America         2024   Home Decor  \n",
       "996       75.28   18.82        July  South America         2022     Clothing  \n",
       "997       75.28   18.82        June  South America         2022     Clothing  \n",
       "998       56.46   18.82   September  South America         2022     Clothing  \n",
       "999       37.64   18.82    November  South America         2023     Clothing  \n",
       "\n",
       "[1000 rows x 11 columns]"
      ]
     },
     "execution_count": 42,
     "metadata": {},
     "output_type": "execute_result"
    }
   ],
   "source": [
    "merge_df"
   ]
  },
  {
   "cell_type": "code",
   "execution_count": 51,
   "id": "3358688e-9f4a-4b0a-b5c8-86690a14b487",
   "metadata": {},
   "outputs": [
    {
     "data": {
      "text/html": [
       "<div>\n",
       "<style scoped>\n",
       "    .dataframe tbody tr th:only-of-type {\n",
       "        vertical-align: middle;\n",
       "    }\n",
       "\n",
       "    .dataframe tbody tr th {\n",
       "        vertical-align: top;\n",
       "    }\n",
       "\n",
       "    .dataframe thead th {\n",
       "        text-align: right;\n",
       "    }\n",
       "</style>\n",
       "<table border=\"1\" class=\"dataframe\">\n",
       "  <thead>\n",
       "    <tr style=\"text-align: right;\">\n",
       "      <th></th>\n",
       "      <th>ProductID</th>\n",
       "      <th>ProductName</th>\n",
       "      <th>Category</th>\n",
       "      <th>Price</th>\n",
       "    </tr>\n",
       "  </thead>\n",
       "  <tbody>\n",
       "    <tr>\n",
       "      <th>0</th>\n",
       "      <td>P001</td>\n",
       "      <td>ActiveWear Biography</td>\n",
       "      <td>Books</td>\n",
       "      <td>169.30</td>\n",
       "    </tr>\n",
       "    <tr>\n",
       "      <th>1</th>\n",
       "      <td>P002</td>\n",
       "      <td>ActiveWear Smartwatch</td>\n",
       "      <td>Electronics</td>\n",
       "      <td>346.30</td>\n",
       "    </tr>\n",
       "    <tr>\n",
       "      <th>2</th>\n",
       "      <td>P003</td>\n",
       "      <td>ComfortLiving Biography</td>\n",
       "      <td>Books</td>\n",
       "      <td>44.12</td>\n",
       "    </tr>\n",
       "    <tr>\n",
       "      <th>3</th>\n",
       "      <td>P004</td>\n",
       "      <td>BookWorld Rug</td>\n",
       "      <td>Home Decor</td>\n",
       "      <td>95.69</td>\n",
       "    </tr>\n",
       "    <tr>\n",
       "      <th>4</th>\n",
       "      <td>P005</td>\n",
       "      <td>TechPro T-Shirt</td>\n",
       "      <td>Clothing</td>\n",
       "      <td>429.31</td>\n",
       "    </tr>\n",
       "    <tr>\n",
       "      <th>...</th>\n",
       "      <td>...</td>\n",
       "      <td>...</td>\n",
       "      <td>...</td>\n",
       "      <td>...</td>\n",
       "    </tr>\n",
       "    <tr>\n",
       "      <th>95</th>\n",
       "      <td>P096</td>\n",
       "      <td>SoundWave Headphones</td>\n",
       "      <td>Electronics</td>\n",
       "      <td>307.47</td>\n",
       "    </tr>\n",
       "    <tr>\n",
       "      <th>96</th>\n",
       "      <td>P097</td>\n",
       "      <td>BookWorld Cookbook</td>\n",
       "      <td>Books</td>\n",
       "      <td>319.34</td>\n",
       "    </tr>\n",
       "    <tr>\n",
       "      <th>97</th>\n",
       "      <td>P098</td>\n",
       "      <td>SoundWave Laptop</td>\n",
       "      <td>Electronics</td>\n",
       "      <td>299.93</td>\n",
       "    </tr>\n",
       "    <tr>\n",
       "      <th>98</th>\n",
       "      <td>P099</td>\n",
       "      <td>SoundWave Mystery Book</td>\n",
       "      <td>Books</td>\n",
       "      <td>354.29</td>\n",
       "    </tr>\n",
       "    <tr>\n",
       "      <th>99</th>\n",
       "      <td>P100</td>\n",
       "      <td>HomeSense Sweater</td>\n",
       "      <td>Clothing</td>\n",
       "      <td>126.34</td>\n",
       "    </tr>\n",
       "  </tbody>\n",
       "</table>\n",
       "<p>100 rows × 4 columns</p>\n",
       "</div>"
      ],
      "text/plain": [
       "   ProductID              ProductName     Category   Price\n",
       "0       P001     ActiveWear Biography        Books  169.30\n",
       "1       P002    ActiveWear Smartwatch  Electronics  346.30\n",
       "2       P003  ComfortLiving Biography        Books   44.12\n",
       "3       P004            BookWorld Rug   Home Decor   95.69\n",
       "4       P005          TechPro T-Shirt     Clothing  429.31\n",
       "..       ...                      ...          ...     ...\n",
       "95      P096     SoundWave Headphones  Electronics  307.47\n",
       "96      P097       BookWorld Cookbook        Books  319.34\n",
       "97      P098         SoundWave Laptop  Electronics  299.93\n",
       "98      P099   SoundWave Mystery Book        Books  354.29\n",
       "99      P100        HomeSense Sweater     Clothing  126.34\n",
       "\n",
       "[100 rows x 4 columns]"
      ]
     },
     "execution_count": 51,
     "metadata": {},
     "output_type": "execute_result"
    }
   ],
   "source": [
    "p_df"
   ]
  },
  {
   "cell_type": "code",
   "execution_count": 55,
   "id": "3fe4ca0b-4d0a-46c6-a9c5-99ed42eb51a8",
   "metadata": {},
   "outputs": [
    {
     "data": {
      "text/plain": [
       "array(['TechPro T-Shirt', 'ActiveWear Jacket', 'ActiveWear Running Shoes',\n",
       "       'ComfortLiving Sweater', 'HomeSense T-Shirt', 'ActiveWear T-Shirt',\n",
       "       'BookWorld Jacket', 'SoundWave T-Shirt', 'BookWorld Sweater',\n",
       "       'SoundWave Jacket', 'SoundWave Jeans', 'HomeSense Running Shoes',\n",
       "       'ActiveWear Jeans', 'HomeSense Sweater', 'TechPro Running Shoes',\n",
       "       'BookWorld Running Shoes'], dtype=object)"
      ]
     },
     "execution_count": 55,
     "metadata": {},
     "output_type": "execute_result"
    }
   ],
   "source": [
    "p_df[p_df[\"Category\"]==\"Clothing\"][\"ProductName\"].unique()"
   ]
  },
  {
   "cell_type": "code",
   "execution_count": 56,
   "id": "b09c87c0-6474-4cfd-9022-e2d65985e4b3",
   "metadata": {},
   "outputs": [
    {
     "data": {
      "text/plain": [
       "array(['ActiveWear Biography', 'ComfortLiving Biography',\n",
       "       'SoundWave Cookbook', 'ActiveWear Textbook',\n",
       "       'ComfortLiving Mystery Book', 'ActiveWear Cookbook',\n",
       "       'BookWorld Cookbook', 'SoundWave Mystery Book', 'SoundWave Novel',\n",
       "       'TechPro Cookbook', 'TechPro Textbook', 'BookWorld Biography',\n",
       "       'HomeSense Novel', 'TechPro Novel', 'SoundWave Textbook'],\n",
       "      dtype=object)"
      ]
     },
     "execution_count": 56,
     "metadata": {},
     "output_type": "execute_result"
    }
   ],
   "source": [
    "p_df[p_df[\"Category\"]==\"Books\"][\"ProductName\"].unique()"
   ]
  },
  {
   "cell_type": "code",
   "execution_count": 57,
   "id": "42b10ec7-0f62-441c-a083-30dffc615aff",
   "metadata": {},
   "outputs": [
    {
     "data": {
      "text/plain": [
       "array(['ActiveWear Smartwatch', 'BookWorld Bluetooth Speaker',\n",
       "       'ComfortLiving Smartwatch', 'ComfortLiving Headphones',\n",
       "       'BookWorld Smartwatch', 'HomeSense Headphones',\n",
       "       'SoundWave Bluetooth Speaker', 'SoundWave Headphones',\n",
       "       'TechPro Headphones', 'SoundWave Smartwatch', 'TechPro Smartwatch',\n",
       "       'ComfortLiving Smartphone', 'ActiveWear Headphones',\n",
       "       'ActiveWear Smartphone', 'ComfortLiving Bluetooth Speaker',\n",
       "       'ComfortLiving Laptop', 'HomeSense Bluetooth Speaker',\n",
       "       'SoundWave Laptop'], dtype=object)"
      ]
     },
     "execution_count": 57,
     "metadata": {},
     "output_type": "execute_result"
    }
   ],
   "source": [
    "p_df[p_df[\"Category\"]==\"Electronics\"][\"ProductName\"].unique()"
   ]
  },
  {
   "cell_type": "code",
   "execution_count": 59,
   "id": "82a43040-d020-40dd-9b1a-c80e14530d7d",
   "metadata": {},
   "outputs": [
    {
     "data": {
      "text/plain": [
       "array(['BookWorld Rug', 'ActiveWear Rug', 'BookWorld Wall Art',\n",
       "       'SoundWave Desk Lamp', 'SoundWave Rug', 'HomeSense Wall Art',\n",
       "       'ActiveWear Cookware Set', 'HomeSense Desk Lamp', 'TechPro Vase',\n",
       "       'ComfortLiving Cookware Set', 'ComfortLiving Desk Lamp',\n",
       "       'TechPro Rug', 'HomeSense Rug', 'ComfortLiving Rug',\n",
       "       'ActiveWear Wall Art', 'HomeSense Cookware Set',\n",
       "       'BookWorld Cookware Set'], dtype=object)"
      ]
     },
     "execution_count": 59,
     "metadata": {},
     "output_type": "execute_result"
    }
   ],
   "source": [
    "p_df[p_df[\"Category\"]==\"Home Decor\"][\"ProductName\"].unique()"
   ]
  }
 ],
 "metadata": {
  "kernelspec": {
   "display_name": "Python 3 (ipykernel)",
   "language": "python",
   "name": "python3"
  },
  "language_info": {
   "codemirror_mode": {
    "name": "ipython",
    "version": 3
   },
   "file_extension": ".py",
   "mimetype": "text/x-python",
   "name": "python",
   "nbconvert_exporter": "python",
   "pygments_lexer": "ipython3",
   "version": "3.11.9"
  }
 },
 "nbformat": 4,
 "nbformat_minor": 5
}
